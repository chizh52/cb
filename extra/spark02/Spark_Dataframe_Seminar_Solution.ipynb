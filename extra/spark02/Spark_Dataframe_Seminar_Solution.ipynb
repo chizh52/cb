{
 "cells": [
  {
   "cell_type": "code",
   "execution_count": 4,
   "metadata": {},
   "outputs": [
    {
     "name": "stdout",
     "output_type": "stream",
     "text": [
      "Welcome to\n",
      "      ____              __\n",
      "     / __/__  ___ _____/ /__\n",
      "    _\\ \\/ _ \\/ _ `/ __/  '_/\n",
      "   /__ / .__/\\_,_/_/ /_/\\_\\   version 2.3.0.cloudera2\n",
      "      /_/\n",
      "\n",
      "Using Python version 3.4.3 (default, Nov 17 2016 01:08:31)\n",
      "SparkSession available as 'spark'.\n"
     ]
    }
   ],
   "source": [
    "import os\n",
    "import sys\n",
    "os.environ[\"PYSPARK_SUBMIT_ARGS\"]='pyspark-shell'\n",
    "os.environ[\"PYSPARK_PYTHON\"]='python3'\n",
    "os.environ[\"SPARK_HOME\"]='/opt/cloudera/parcels/SPARK2/lib/spark2/'\n",
    "\n",
    "spark_home = os.environ.get('SPARK_HOME', None)\n",
    "if not spark_home:\n",
    "    raise ValueError('SPARK_HOME environment variable is not set')\n",
    "sys.path.insert(0, os.path.join(spark_home, 'python'))\n",
    "sys.path.insert(0, os.path.join(spark_home, 'python/lib/py4j-0.10.6-src.zip'))\n",
    "os.environ[\"PYSPARK_PYTHON\"] = 'python3'\n",
    "exec(open(os.path.join(spark_home, 'python/pyspark/shell.py')).read())"
   ]
  },
  {
   "cell_type": "code",
   "execution_count": 30,
   "metadata": {},
   "outputs": [
    {
     "name": "stdout",
     "output_type": "stream",
     "text": [
      "Populating the interactive namespace from numpy and matplotlib\n"
     ]
    },
    {
     "name": "stderr",
     "output_type": "stream",
     "text": [
      "/usr/local/lib/python3.4/dist-packages/IPython/core/magics/pylab.py:160: UserWarning: pylab import has clobbered these variables: ['log']\n",
      "`%matplotlib` prevents importing * from pylab and numpy\n",
      "  \"\\n`%matplotlib` prevents importing * from pylab and numpy\"\n"
     ]
    }
   ],
   "source": [
    "%pylab inline"
   ]
  },
  {
   "cell_type": "markdown",
   "metadata": {},
   "source": [
    "## Пусть вам дан следующий SQL-запрос\n",
    "```sql\n",
    "\n",
    "select * from logs l join ips r\n",
    "on l.ip == r.ip\n",
    "```"
   ]
  },
  {
   "cell_type": "code",
   "execution_count": 2,
   "metadata": {
    "collapsed": true
   },
   "outputs": [],
   "source": [
    "## Выполните этот запрос в Spark SQL, предварительно зарегистрировав таблицы"
   ]
  },
  {
   "cell_type": "code",
   "execution_count": 15,
   "metadata": {
    "collapsed": true
   },
   "outputs": [],
   "source": [
    "sql = \"\"\"\n",
    "select url, code, region from logs as l join ips as r\n",
    "on l.ip == r.ip\n",
    "\"\"\""
   ]
  },
  {
   "cell_type": "code",
   "execution_count": 5,
   "metadata": {
    "collapsed": true
   },
   "outputs": [],
   "source": [
    "from pyspark.sql.types import *"
   ]
  },
  {
   "cell_type": "code",
   "execution_count": 6,
   "metadata": {
    "collapsed": true
   },
   "outputs": [],
   "source": [
    "log_schema = StructType(fields=[\n",
    "    StructField(\"ip\", StringType()),\n",
    "    StructField(\"timestamp\", LongType()),\n",
    "    StructField(\"url\", StringType()),\n",
    "    StructField(\"size\", IntegerType()),\n",
    "    StructField(\"code\", IntegerType()),\n",
    "    StructField(\"ua\", StringType())\n",
    "])"
   ]
  },
  {
   "cell_type": "code",
   "execution_count": 38,
   "metadata": {
    "collapsed": true
   },
   "outputs": [],
   "source": [
    "log = spark.read.csv(\"/user/pklemenkov/lectures/x5/lecture06/data/logsM.txt\", sep=\"\\t\", schema=log_schema).cache()"
   ]
  },
  {
   "cell_type": "code",
   "execution_count": 8,
   "metadata": {
    "collapsed": true
   },
   "outputs": [],
   "source": [
    "ip_schema = StructType(fields=[\n",
    "    StructField(\"ip\", StringType()),\n",
    "    StructField(\"region\", StringType())\n",
    "])"
   ]
  },
  {
   "cell_type": "code",
   "execution_count": 9,
   "metadata": {
    "collapsed": true
   },
   "outputs": [],
   "source": [
    "ips = spark.read.csv(\"/user/pklemenkov/lectures/x5/lecture06/data/ipDataM.txt\", schema=ip_schema, sep=\"\\t\").cache()"
   ]
  },
  {
   "cell_type": "code",
   "execution_count": 10,
   "metadata": {
    "collapsed": true
   },
   "outputs": [],
   "source": [
    "log.registerTempTable(\"logs\")"
   ]
  },
  {
   "cell_type": "code",
   "execution_count": 11,
   "metadata": {
    "collapsed": true
   },
   "outputs": [],
   "source": [
    "ips.registerTempTable(\"ips\")"
   ]
  },
  {
   "cell_type": "code",
   "execution_count": 16,
   "metadata": {},
   "outputs": [
    {
     "data": {
      "text/plain": [
       "[Row(url='http://news.rambler.ru/3105700', code=431, region='Irkutsk Oblast'),\n",
       " Row(url='http://news.rambler.ru/3105700', code=431, region='Omsk Oblast'),\n",
       " Row(url='http://news.rambler.ru/3105700', code=431, region='Nizhny Novgorod Oblast'),\n",
       " Row(url='http://news.rambler.ru/3105700', code=431, region='Jewish'),\n",
       " Row(url='http://news.rambler.ru/3105700', code=431, region='Kamchatka Krai')]"
      ]
     },
     "execution_count": 16,
     "metadata": {},
     "output_type": "execute_result"
    }
   ],
   "source": [
    "spark.sql(sql).take(5)"
   ]
  },
  {
   "cell_type": "code",
   "execution_count": 17,
   "metadata": {
    "collapsed": true
   },
   "outputs": [],
   "source": [
    "## Теперь перепешите этот запрос с использованием DataFrame API"
   ]
  },
  {
   "cell_type": "code",
   "execution_count": 19,
   "metadata": {},
   "outputs": [
    {
     "data": {
      "text/plain": [
       "[Row(url='http://news.rambler.ru/3105700', code=431, region='Irkutsk Oblast'),\n",
       " Row(url='http://news.rambler.ru/3105700', code=431, region='Omsk Oblast'),\n",
       " Row(url='http://news.rambler.ru/3105700', code=431, region='Nizhny Novgorod Oblast'),\n",
       " Row(url='http://news.rambler.ru/3105700', code=431, region='Jewish'),\n",
       " Row(url='http://news.rambler.ru/3105700', code=431, region='Kamchatka Krai')]"
      ]
     },
     "execution_count": 19,
     "metadata": {},
     "output_type": "execute_result"
    }
   ],
   "source": [
    "log.join(ips, on=\"ip\", how=\"inner\").select(\"url\", \"code\", \"region\").take(5)"
   ]
  },
  {
   "cell_type": "code",
   "execution_count": 23,
   "metadata": {
    "collapsed": true
   },
   "outputs": [],
   "source": [
    "## Посчитайте гистограмму распределения кодов ответа в логе доступа. Отсуртируйте результат по сумме кодов. Наибольшая сумма сверху"
   ]
  },
  {
   "cell_type": "code",
   "execution_count": 25,
   "metadata": {},
   "outputs": [
    {
     "data": {
      "text/plain": [
       "[Row(code=302, count=323),\n",
       " Row(code=307, count=182),\n",
       " Row(code=205, count=181),\n",
       " Row(code=502, count=181),\n",
       " Row(code=504, count=177),\n",
       " Row(code=207, count=174),\n",
       " Row(code=415, count=174),\n",
       " Row(code=403, count=174),\n",
       " Row(code=408, count=172),\n",
       " Row(code=200, count=170),\n",
       " Row(code=505, count=169),\n",
       " Row(code=422, count=169),\n",
       " Row(code=409, count=167),\n",
       " Row(code=503, count=165),\n",
       " Row(code=418, count=165),\n",
       " Row(code=507, count=164),\n",
       " Row(code=301, count=163),\n",
       " Row(code=456, count=162),\n",
       " Row(code=511, count=161),\n",
       " Row(code=226, count=161),\n",
       " Row(code=101, count=160),\n",
       " Row(code=509, count=159),\n",
       " Row(code=426, count=158),\n",
       " Row(code=401, count=157),\n",
       " Row(code=417, count=155),\n",
       " Row(code=105, count=155),\n",
       " Row(code=423, count=155),\n",
       " Row(code=202, count=154),\n",
       " Row(code=100, count=154),\n",
       " Row(code=429, count=153),\n",
       " Row(code=412, count=153),\n",
       " Row(code=201, count=153),\n",
       " Row(code=500, count=152),\n",
       " Row(code=407, count=152),\n",
       " Row(code=510, count=151),\n",
       " Row(code=406, count=151),\n",
       " Row(code=449, count=150),\n",
       " Row(code=413, count=149),\n",
       " Row(code=424, count=149),\n",
       " Row(code=425, count=147),\n",
       " Row(code=400, count=147),\n",
       " Row(code=499, count=147),\n",
       " Row(code=203, count=146),\n",
       " Row(code=434, count=145),\n",
       " Row(code=411, count=145),\n",
       " Row(code=306, count=144),\n",
       " Row(code=206, count=143),\n",
       " Row(code=410, count=143),\n",
       " Row(code=501, count=141),\n",
       " Row(code=305, count=140),\n",
       " Row(code=405, count=140),\n",
       " Row(code=451, count=140),\n",
       " Row(code=204, count=140),\n",
       " Row(code=508, count=139),\n",
       " Row(code=300, count=138),\n",
       " Row(code=102, count=138),\n",
       " Row(code=414, count=138),\n",
       " Row(code=506, count=138),\n",
       " Row(code=304, count=137),\n",
       " Row(code=416, count=137),\n",
       " Row(code=404, count=133),\n",
       " Row(code=303, count=133),\n",
       " Row(code=428, count=131),\n",
       " Row(code=431, count=126),\n",
       " Row(code=402, count=122)]"
      ]
     },
     "execution_count": 25,
     "metadata": {},
     "output_type": "execute_result"
    }
   ],
   "source": [
    "log.groupby(\"code\").count().sort(\"count\", ascending=False).collect()"
   ]
  },
  {
   "cell_type": "code",
   "execution_count": 26,
   "metadata": {
    "collapsed": true
   },
   "outputs": [],
   "source": [
    "## Изобразите гистограмму кодов на графике"
   ]
  },
  {
   "cell_type": "code",
   "execution_count": 27,
   "metadata": {
    "collapsed": true
   },
   "outputs": [],
   "source": [
    "log_hist = log.groupby(\"code\").count().sort(\"count\", ascending=False).toPandas()"
   ]
  },
  {
   "cell_type": "code",
   "execution_count": 33,
   "metadata": {},
   "outputs": [
    {
     "data": {
      "text/plain": [
       "array([[<matplotlib.axes.AxesSubplot object at 0x7f5017185710>]],\n",
       "      dtype=object)"
      ]
     },
     "execution_count": 33,
     "metadata": {},
     "output_type": "execute_result"
    },
    {
     "data": {
      "image/png": "[encoded data removed]",
      "text/plain": [
       "<matplotlib.figure.Figure at 0x7f501718fe80>"
      ]
     },
     "metadata": {},
     "output_type": "display_data"
    }
   ],
   "source": [
    "log_hist.hist(column=\"count\")"
   ]
  },
  {
   "cell_type": "code",
   "execution_count": 34,
   "metadata": {
    "collapsed": true
   },
   "outputs": [],
   "source": [
    "## Напишите запрос, который вернет распределение доменов среди запросов"
   ]
  },
  {
   "cell_type": "code",
   "execution_count": 35,
   "metadata": {
    "collapsed": true
   },
   "outputs": [],
   "source": [
    "import pyspark.sql.functions as F"
   ]
  },
  {
   "cell_type": "code",
   "execution_count": 37,
   "metadata": {},
   "outputs": [
    {
     "data": {
      "text/plain": [
       "<ufunc 'log'>"
      ]
     },
     "execution_count": 37,
     "metadata": {},
     "output_type": "execute_result"
    }
   ],
   "source": [
    "log"
   ]
  },
  {
   "cell_type": "code",
   "execution_count": 40,
   "metadata": {},
   "outputs": [],
   "source": [
    "log_with_domains = log.withColumn(\"domain\", F.regexp_extract(\"url\", \"http:\\/\\/(.*)\\/\", 1))"
   ]
  },
  {
   "cell_type": "code",
   "execution_count": 41,
   "metadata": {},
   "outputs": [
    {
     "data": {
      "text/plain": [
       "[Row(ip='33.49.147.163', timestamp=20140101014611, url='http://news.rambler.ru/3105700', size=378, code=431, ua='Safari/5.0 (compatible; MSIE 9.0; Windows NT 6.1; Win64; x64; Trident/5.0; .NET CLR 3.5.30729;)', domain='news.rambler.ru'),\n",
       " Row(ip='197.72.248.141', timestamp=20140101020306, url='http://news.mail.ru/6344933', size=1412, code=203, ua='Safari/5.0 (compatible; MSIE 9.0; Windows NT 6.1; WOW64; Trident/5.0; .NET CLR 3.5.30729; .NET CLR 3.0.30729;', domain='news.mail.ru'),\n",
       " Row(ip='33.49.147.163', timestamp=20140101023103, url='http://lenta.ru/4303000', size=1189, code=451, ua='Chrome/5.0 (compatible; MSIE 9.0; Windows NT 6.1; Win64; x64; Trident/5.0)', domain='lenta.ru'),\n",
       " Row(ip='75.208.40.166', timestamp=20140101032909, url='http://newsru.com/3330815', size=60, code=306, ua='Safari/5.0 (Windows; U; MSIE 9.0; Windows NT 8.1; Trident/5.0; .NET4.0E; en-AU)', domain='newsru.com'),\n",
       " Row(ip='197.72.248.141', timestamp=20140101033626, url='http://newsru.com/1588977', size=736, code=307, ua='Chrome/5.0 (compatible; MSIE 9.0; Windows NT 8.0; WOW64; Trident/5.0; .NET CLR 2.7.40781; .NET4.0E; en-SG)', domain='newsru.com')]"
      ]
     },
     "execution_count": 41,
     "metadata": {},
     "output_type": "execute_result"
    }
   ],
   "source": [
    "log_with_domains.take(5)"
   ]
  },
  {
   "cell_type": "code",
   "execution_count": 42,
   "metadata": {},
   "outputs": [
    {
     "data": {
      "text/plain": [
       "[Row(domain='news.rambler.ru', count=1983),\n",
       " Row(domain='news.yandex.ru', count=2015),\n",
       " Row(domain='newsru.com', count=2001),\n",
       " Row(domain='news.mail.ru', count=2035),\n",
       " Row(domain='lenta.ru', count=2058)]"
      ]
     },
     "execution_count": 42,
     "metadata": {},
     "output_type": "execute_result"
    }
   ],
   "source": [
    "log_with_domains.groupby(\"domain\").count().collect()"
   ]
  },
  {
   "cell_type": "code",
   "execution_count": 44,
   "metadata": {
    "collapsed": true
   },
   "outputs": [],
   "source": [
    "spark.stop()"
   ]
  },
  {
   "cell_type": "code",
   "execution_count": null,
   "metadata": {
    "collapsed": true
   },
   "outputs": [],
   "source": []
  }
 ],
 "metadata": {
  "kernelspec": {
   "display_name": "Python 3",
   "language": "python",
   "name": "python3"
  },
  "language_info": {
   "codemirror_mode": {
    "name": "ipython",
    "version": 3
   },
   "file_extension": ".py",
   "mimetype": "text/x-python",
   "name": "python",
   "nbconvert_exporter": "python",
   "pygments_lexer": "ipython3",
   "version": "3.6.5"
  }
 },
 "nbformat": 4,
 "nbformat_minor": 2
}
