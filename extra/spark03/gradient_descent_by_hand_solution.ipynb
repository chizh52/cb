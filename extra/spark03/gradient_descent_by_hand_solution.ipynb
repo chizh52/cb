{
 "cells": [
  {
   "cell_type": "code",
   "execution_count": 1,
   "metadata": {},
   "outputs": [
    {
     "name": "stdout",
     "output_type": "stream",
     "text": [
      "Welcome to\n",
      "      ____              __\n",
      "     / __/__  ___ _____/ /__\n",
      "    _\\ \\/ _ \\/ _ `/ __/  '_/\n",
      "   /__ / .__/\\_,_/_/ /_/\\_\\   version 2.3.2\n",
      "      /_/\n",
      "\n",
      "Using Python version 3.6.5 (default, Apr 29 2018 16:14:56)\n",
      "SparkSession available as 'spark'.\n"
     ]
    }
   ],
   "source": [
    "import os\n",
    "import sys\n",
    "os.environ[\"PYSPARK_SUBMIT_ARGS\"]='--conf spark.sql.catalogImplementation=in-memory pyspark-shell'\n",
    "os.environ[\"PYSPARK_PYTHON\"]='/opt/anaconda/envs/bd9/bin/python'\n",
    "os.environ[\"SPARK_HOME\"]='/usr/hdp/current/spark2-client'\n",
    "\n",
    "spark_home = os.environ.get('SPARK_HOME', None)\n",
    "if not spark_home:\n",
    "    raise ValueError('SPARK_HOME environment variable is not set')\n",
    "sys.path.insert(0, os.path.join(spark_home, 'python'))\n",
    "sys.path.insert(0, os.path.join(spark_home, 'python/lib/py4j-0.10.7-src.zip'))\n",
    "exec(open(os.path.join(spark_home, 'python/pyspark/shell.py')).read())"
   ]
  },
  {
   "cell_type": "code",
   "execution_count": 2,
   "metadata": {},
   "outputs": [],
   "source": [
    "from pyspark.mllib.regression import LabeledPoint, LinearRegressionWithSGD\n",
    "from numpy import array\n",
    "import random"
   ]
  },
  {
   "cell_type": "code",
   "execution_count": 3,
   "metadata": {},
   "outputs": [],
   "source": [
    "def gen_point(i):\n",
    "    x1 = random.uniform(-100,100)\n",
    "    x2 = random.uniform(-20,60)\n",
    "    return LabeledPoint(x1 * 10.0 + x2 * 25 + random.uniform(-2,2), [x1, x2])\n",
    "\n",
    "points = sc.parallelize(range(100000)).map(gen_point)"
   ]
  },
  {
   "cell_type": "code",
   "execution_count": 4,
   "metadata": {},
   "outputs": [
    {
     "data": {
      "text/plain": [
       "[LabeledPoint(1045.3687323617437, [9.989702114274678,37.8834649301104]),\n",
       " LabeledPoint(-861.2328368839092, [-73.94622253366974,-4.815575435722215]),\n",
       " LabeledPoint(1175.1804739227186, [78.05962913215089,15.75845737278619]),\n",
       " LabeledPoint(1892.9646003244372, [86.28148056034837,41.22765255487302]),\n",
       " LabeledPoint(1341.3478674754544, [50.156191148039255,33.54443176166531]),\n",
       " LabeledPoint(1100.2469136647467, [19.55681522777077,36.1508956145733]),\n",
       " LabeledPoint(1828.942237069067, [89.07555717521817,37.53444120026234]),\n",
       " LabeledPoint(-292.78017106731767, [-50.637567209638235,8.498824561278234]),\n",
       " LabeledPoint(-138.02836578152443, [-34.306488397251826,8.174382014414618]),\n",
       " LabeledPoint(1602.7332661927396, [23.82022532450756,54.530313886252145])]"
      ]
     },
     "execution_count": 4,
     "metadata": {},
     "output_type": "execute_result"
    }
   ],
   "source": [
    "points.takeSample(False, 10)"
   ]
  },
  {
   "cell_type": "markdown",
   "metadata": {},
   "source": [
    "## Do it the easy way"
   ]
  },
  {
   "cell_type": "code",
   "execution_count": 5,
   "metadata": {},
   "outputs": [],
   "source": [
    "model = LinearRegressionWithSGD.train(points, \n",
    "            iterations=100, step=1e-4, intercept=True)"
   ]
  },
  {
   "cell_type": "code",
   "execution_count": 6,
   "metadata": {},
   "outputs": [
    {
     "data": {
      "text/plain": [
       "(weights=[9.976290677363732,20.70170508262199], intercept=1.4439299695365633)"
      ]
     },
     "execution_count": 6,
     "metadata": {},
     "output_type": "execute_result"
    }
   ],
   "source": [
    "model"
   ]
  },
  {
   "cell_type": "markdown",
   "metadata": {},
   "source": [
    "## Do it the hard way"
   ]
  },
  {
   "cell_type": "code",
   "execution_count": 5,
   "metadata": {},
   "outputs": [],
   "source": [
    "weights = array([0, 0])\n",
    "step = 1e-9"
   ]
  },
  {
   "cell_type": "code",
   "execution_count": 6,
   "metadata": {},
   "outputs": [],
   "source": [
    "x = points.map(lambda p: p.features)"
   ]
  },
  {
   "cell_type": "code",
   "execution_count": 7,
   "metadata": {},
   "outputs": [],
   "source": [
    "y = points.map(lambda p: p.label)"
   ]
  },
  {
   "cell_type": "code",
   "execution_count": 8,
   "metadata": {},
   "outputs": [
    {
     "data": {
      "text/plain": [
       "[DenseVector([-65.7918, 55.1743]),\n",
       " DenseVector([-33.6416, 19.6272]),\n",
       " DenseVector([-50.3937, -16.2745]),\n",
       " DenseVector([-35.947, 6.919]),\n",
       " DenseVector([88.8145, 31.7886])]"
      ]
     },
     "execution_count": 8,
     "metadata": {},
     "output_type": "execute_result"
    }
   ],
   "source": [
    "x.take(5)"
   ]
  },
  {
   "cell_type": "code",
   "execution_count": 9,
   "metadata": {},
   "outputs": [
    {
     "data": {
      "text/plain": [
       "[-140.2251203501606,\n",
       " 859.1893897753312,\n",
       " 699.240988008658,\n",
       " 869.5942206335931,\n",
       " 1414.2990293729565]"
      ]
     },
     "execution_count": 9,
     "metadata": {},
     "output_type": "execute_result"
    }
   ],
   "source": [
    "y.take(5)"
   ]
  },
  {
   "cell_type": "code",
   "execution_count": 10,
   "metadata": {},
   "outputs": [],
   "source": [
    "prediction = x.map(lambda point: point.dot(weights))"
   ]
  },
  {
   "cell_type": "code",
   "execution_count": 11,
   "metadata": {},
   "outputs": [
    {
     "data": {
      "text/plain": [
       "[0.0, 0.0, 0.0, 0.0, 0.0]"
      ]
     },
     "execution_count": 11,
     "metadata": {},
     "output_type": "execute_result"
    }
   ],
   "source": [
    "prediction.take(5)"
   ]
  },
  {
   "cell_type": "code",
   "execution_count": 12,
   "metadata": {},
   "outputs": [],
   "source": [
    "gradient = x.zip(y).map(lambda xy: (xy[0].dot(weights) - xy[1]) * xy[0])"
   ]
  },
  {
   "cell_type": "code",
   "execution_count": 13,
   "metadata": {},
   "outputs": [
    {
     "data": {
      "text/plain": [
       "[DenseVector([370.2101, -945.1173]),\n",
       " DenseVector([16326.1865, -36005.2544]),\n",
       " DenseVector([8922.5447, -23150.5864]),\n",
       " DenseVector([-39944.1573, -14274.4316]),\n",
       " DenseVector([-68287.7384, -52683.5141])]"
      ]
     },
     "execution_count": 13,
     "metadata": {},
     "output_type": "execute_result"
    }
   ],
   "source": [
    "gradient.take(5)"
   ]
  },
  {
   "cell_type": "code",
   "execution_count": 14,
   "metadata": {},
   "outputs": [],
   "source": [
    "gradient_average = gradient.mean()"
   ]
  },
  {
   "cell_type": "code",
   "execution_count": 15,
   "metadata": {},
   "outputs": [],
   "source": [
    "weights = weights - step * gradient_average"
   ]
  },
  {
   "cell_type": "code",
   "execution_count": 16,
   "metadata": {},
   "outputs": [
    {
     "data": {
      "text/plain": [
       "array([3.35182652e-05, 2.33382322e-05])"
      ]
     },
     "execution_count": 16,
     "metadata": {},
     "output_type": "execute_result"
    }
   ],
   "source": [
    "weights"
   ]
  },
  {
   "cell_type": "code",
   "execution_count": 17,
   "metadata": {},
   "outputs": [],
   "source": [
    "iterations = 20\n",
    "weights = array([0, 0])\n",
    "step = 1e-4"
   ]
  },
  {
   "cell_type": "code",
   "execution_count": 18,
   "metadata": {},
   "outputs": [
    {
     "name": "stdout",
     "output_type": "stream",
     "text": [
      "0 [3.35182652 2.33382322] 627666.002275555\n",
      "1 [5.58419883 4.44817586] 459431.56725968904\n",
      "2 [7.07062439 6.36423042] 352641.30401024123\n",
      "3 [8.06002392 8.10094066] 278835.13536749297\n",
      "4 [8.7182852  9.67533085] 224361.14399650635\n",
      "5 [ 9.1559576  11.10273046] 182324.3834678253\n",
      "6 [ 9.44670976 12.39696864] 148978.78048046472\n",
      "7 [ 9.63963105 13.57053836] 122098.26973536759\n",
      "8 [ 9.76743024 14.63473708] 100231.73383566189\n",
      "9 [ 9.85189951 15.59978893] 82354.34383443753\n",
      "10 [ 9.9075561  16.47495185] 67698.12116435009\n",
      "11 [ 9.9440693  17.26861238] 55664.69378070585\n",
      "12 [ 9.96787792 17.98836994] 45776.68892692989\n",
      "13 [ 9.98326825 18.64111231] 37648.03712468688\n",
      "14 [ 9.99309243 19.23308326] 30964.115052335626\n",
      "15 [ 9.99924723 19.76994344] 25467.442085875446\n",
      "16 [10.00299303 20.25682534] 20946.816999393148\n",
      "17 [10.00516644 20.69838283] 17228.78326595479\n",
      "18 [10.00632197 21.09883604] 14170.787120216513\n",
      "19 [10.00682638 21.46201187] 11655.629077069301\n"
     ]
    }
   ],
   "source": [
    "for i in range(iterations):\n",
    "    gradient = x.zip(y).map(lambda xy: (xy[0].dot(weights) - xy[1]) * xy[0]).mean()\n",
    "    weights = weights - step * gradient\n",
    "    mse = x.zip(y).map(lambda xy: (xy[0].dot(weights) - xy[1]) ** 2).mean()\n",
    "    print(i, weights, mse)"
   ]
  },
  {
   "cell_type": "code",
   "execution_count": 19,
   "metadata": {},
   "outputs": [],
   "source": [
    "sc.stop()"
   ]
  },
  {
   "cell_type": "code",
   "execution_count": null,
   "metadata": {},
   "outputs": [],
   "source": []
  }
 ],
 "metadata": {
  "kernelspec": {
   "display_name": "Python 3",
   "language": "python",
   "name": "python3"
  },
  "language_info": {
   "codemirror_mode": {
    "name": "ipython",
    "version": 3
   },
   "file_extension": ".py",
   "mimetype": "text/x-python",
   "name": "python",
   "nbconvert_exporter": "python",
   "pygments_lexer": "ipython3",
   "version": "3.6.5"
  }
 },
 "nbformat": 4,
 "nbformat_minor": 2
}
