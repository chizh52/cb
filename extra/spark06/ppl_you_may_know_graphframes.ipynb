{
 "cells": [
  {
   "cell_type": "code",
   "execution_count": 1,
   "metadata": {},
   "outputs": [
    {
     "name": "stdout",
     "output_type": "stream",
     "text": [
      "Welcome to\n",
      "      ____              __\n",
      "     / __/__  ___ _____/ /__\n",
      "    _\\ \\/ _ \\/ _ `/ __/  '_/\n",
      "   /__ / .__/\\_,_/_/ /_/\\_\\   version 2.3.0.cloudera2\n",
      "      /_/\n",
      "\n",
      "Using Python version 3.4.3 (default, Nov 17 2016 01:08:31)\n",
      "SparkSession available as 'spark'.\n"
     ]
    }
   ],
   "source": [
    "import os\n",
    "exec(open(os.path.join(os.environ['SPARK_HOME'], 'python/pyspark/shell.py')).read())"
   ]
  },
  {
   "cell_type": "code",
   "execution_count": 2,
   "metadata": {
    "collapsed": true
   },
   "outputs": [],
   "source": [
    "sc.addPyFile('/opt/graphframes/graphframes-assembly-0.7.0-spark2.3-SNAPSHOT.jar')\n",
    "\n",
    "from graphframes import * "
   ]
  },
  {
   "cell_type": "code",
   "execution_count": null,
   "metadata": {
    "collapsed": true
   },
   "outputs": [],
   "source": [
    "vertices = spark.createDataFrame([\n",
    "  (\"1\", \"Alex\", 28, \"M\", \"MIPT\"),\n",
    "  (\"2\", \"Emeli\", 28, \"F\", \"MIPT\"),\n",
    "  (\"3\", \"Natasha\", 27, \"F\", \"SPbSU\"),\n",
    "  (\"4\", \"Pavel\", 30, \"M\", \"MIPT\"),\n",
    "  (\"5\", \"Oleg\", 35, \"M\", \"MIPT\"),\n",
    "  (\"6\", \"Ivan\", 30, \"M\", \"MSU\"),\n",
    "  (\"7\", \"Ilya\", 29, \"M\", \"MSU\")], [\"id\", \"name\", \"age\", \"gender\", \"university\"])\n",
    "\n",
    "edges = sqlCtx.createDataFrame([\n",
    "  (\"1\", \"2\", \"friend\"),\n",
    "  (\"2\", \"1\", \"friend\"),\n",
    "  (\"1\", \"3\", \"friend\"),\n",
    "  (\"3\", \"1\", \"friend\"),\n",
    "  (\"1\", \"4\", \"friend\"),\n",
    "  (\"4\", \"1\", \"friend\"),\n",
    "  (\"2\", \"3\", \"friend\"), \n",
    "  (\"3\", \"2\", \"friend\"),\n",
    "  (\"2\", \"5\", \"friend\"),\n",
    "  (\"5\", \"2\", \"friend\"),\n",
    "  (\"3\", \"4\", \"friend\"),\n",
    "  (\"4\", \"3\", \"friend\"),\n",
    "  (\"3\", \"5\", \"friend\"),\n",
    "  (\"5\", \"3\", \"friend\"),\n",
    "  (\"3\", \"6\", \"friend\"),\n",
    "  (\"6\", \"3\", \"friend\"),\n",
    "  (\"3\", \"7\", \"friend\"),\n",
    "  (\"7\", \"3\", \"friend\")\n",
    "], [\"src\", \"dst\", \"relationship\"])\n",
    "\n",
    "gf = GraphFrame(vertices, edges)\n"
   ]
  },
  {
   "cell_type": "code",
   "execution_count": null,
   "metadata": {},
   "outputs": [],
   "source": [
    "gf.vertices.show()"
   ]
  },
  {
   "cell_type": "code",
   "execution_count": null,
   "metadata": {},
   "outputs": [],
   "source": [
    "gf.edges.show()"
   ]
  },
  {
   "cell_type": "code",
   "execution_count": null,
   "metadata": {},
   "outputs": [],
   "source": [
    "gf.vertices.filter(\"age > 30\").show()"
   ]
  },
  {
   "cell_type": "code",
   "execution_count": null,
   "metadata": {},
   "outputs": [],
   "source": [
    "gf.inDegrees.show()"
   ]
  },
  {
   "cell_type": "code",
   "execution_count": null,
   "metadata": {
    "collapsed": true
   },
   "outputs": [],
   "source": [
    "gf.inDegrees.filter(\"inDegree > 2\").show()"
   ]
  },
  {
   "cell_type": "code",
   "execution_count": null,
   "metadata": {
    "collapsed": true
   },
   "outputs": [],
   "source": [
    "results = gf.triangleCount()\n",
    "results.show()"
   ]
  },
  {
   "cell_type": "markdown",
   "metadata": {},
   "source": [
    "### Page Rank"
   ]
  },
  {
   "cell_type": "code",
   "execution_count": null,
   "metadata": {
    "collapsed": true
   },
   "outputs": [],
   "source": [
    "results = gf.pageRank(resetProbability=0.15, maxIter=10)\n",
    "results.vertices.show()"
   ]
  },
  {
   "cell_type": "code",
   "execution_count": null,
   "metadata": {
    "collapsed": true
   },
   "outputs": [],
   "source": [
    "results = gf.pageRank(resetProbability=0.15, tol=0.01)\n",
    "results.vertices.show()"
   ]
  },
  {
   "cell_type": "markdown",
   "metadata": {},
   "source": [
    "### Connected components"
   ]
  },
  {
   "cell_type": "code",
   "execution_count": null,
   "metadata": {
    "collapsed": true
   },
   "outputs": [],
   "source": [
    "vertices = spark.createDataFrame([\n",
    "  (\"1\", \"Alex\", 28, \"M\", \"MIPT\"),\n",
    "  (\"2\", \"Emeli\", 28, \"F\", \"MIPT\"),\n",
    "  (\"3\", \"Natasha\", 27, \"F\", \"SPbSU\"),\n",
    "  (\"4\", \"Pavel\", 30, \"M\", \"MIPT\"),\n",
    "  (\"5\", \"Oleg\", 35, \"M\", \"MIPT\"),\n",
    "  (\"6\", \"Ivan\", 30, \"M\", \"MSU\"),\n",
    "  (\"7\", \"Ilya\", 29, \"M\", \"MSU\")], [\"id\", \"name\", \"age\", \"gender\", \"university\"])\n",
    "\n",
    "edges = spark.createDataFrame([\n",
    "  (\"1\", \"2\", \"friend\"),\n",
    "  (\"1\", \"4\", \"friend\"),\n",
    "  (\"3\", \"5\", \"friend\"),\n",
    "  (\"3\", \"6\", \"friend\"),\n",
    "  (\"3\", \"7\", \"friend\")\n",
    "], [\"src\", \"dst\", \"type\"])\n",
    "\n",
    "reduced_g = GraphFrame(vertices, edges)"
   ]
  },
  {
   "cell_type": "code",
   "execution_count": null,
   "metadata": {
    "collapsed": true
   },
   "outputs": [],
   "source": [
    "spark.sparkContext.setCheckpointDir(\"/tmp\")\n",
    "result = reduced_g.connectedComponents()\n",
    "result.select(\"id\", \"component\").orderBy(\"component\").show()"
   ]
  },
  {
   "cell_type": "markdown",
   "metadata": {
    "collapsed": true
   },
   "source": [
    "###  People you may know"
   ]
  },
  {
   "cell_type": "code",
   "execution_count": 6,
   "metadata": {
    "collapsed": true
   },
   "outputs": [],
   "source": [
    "from pyspark.sql.functions import abs, col, explode, split\n",
    "from pyspark.sql.types import *"
   ]
  },
  {
   "cell_type": "code",
   "execution_count": 7,
   "metadata": {
    "collapsed": true
   },
   "outputs": [],
   "source": [
    "dataPath = \"./\"\n",
    "graphPathNoOutliers = dataPath + \"trainGraph\"\n",
    "usersToPredictPath = dataPath + \"prediction.csv\""
   ]
  },
  {
   "cell_type": "code",
   "execution_count": 8,
   "metadata": {
    "collapsed": true
   },
   "outputs": [],
   "source": [
    "data = spark.read.format(\"csv\").option(\"delimiter\", \"\\t\")\\\n",
    "    .load(graphPathNoOutliers).withColumnRenamed(\"_c0\", \"user\").withColumnRenamed(\"_c1\", \"friendsString\")\n",
    "    "
   ]
  },
  {
   "cell_type": "code",
   "execution_count": 9,
   "metadata": {
    "collapsed": true
   },
   "outputs": [],
   "source": [
    "from pyspark.sql.functions import udf\n",
    "from pyspark.sql.types import *\n",
    "from pyspark.sql.functions import col, split, explode\n",
    "\n",
    "def cutStartEndBrackets(s):\n",
    "    return s[2:-2]\n",
    "\n",
    "cutStartEndBracketsUDF = udf(cutStartEndBrackets, StringType())\n",
    "\n",
    "userFriend = \\\n",
    "    data.select(col(\"user\"), split(cutStartEndBracketsUDF(col(\"friendsString\")), \"\\),\\(\").alias(\"friendsMasks\"))\\\n",
    "    .withColumn(\"friendMask\", explode('friendsMasks'))\\\n",
    "    .withColumn(\"dst\", split(col(\"friendMask\"), \",\")[0])\\\n",
    "    .withColumn(\"src\", col(\"user\"))\\\n",
    "    .select(col(\"src\").cast(\"integer\"), col(\"dst\").cast(\"integer\"))\n",
    "\n",
    "userFriendSymmetric = \\\n",
    "    userFriend\\\n",
    "        .withColumn(\"tmp\", col(\"src\"))\\\n",
    "        .withColumn(\"src\", col(\"dst\"))\\\n",
    "        .withColumn(\"dst\", col(\"tmp\"))\\\n",
    "        .select(\"src\", \"dst\")\n",
    "        \n",
    "edges = userFriend.unionAll(userFriendSymmetric)\n",
    "\n",
    "vertices = edges.select(col(\"src\").alias(\"id\")).distinct()"
   ]
  },
  {
   "cell_type": "code",
   "execution_count": 10,
   "metadata": {},
   "outputs": [],
   "source": [
    "usersFriends = GraphFrame(vertices, edges)"
   ]
  },
  {
   "cell_type": "code",
   "execution_count": null,
   "metadata": {
    "collapsed": true
   },
   "outputs": [],
   "source": []
  }
 ],
 "metadata": {
  "kernelspec": {
   "display_name": "Python 2",
   "language": "python",
   "name": "python2"
  },
  "language_info": {
   "codemirror_mode": {
    "name": "ipython",
    "version": 2
   },
   "file_extension": ".py",
   "mimetype": "text/x-python",
   "name": "python",
   "nbconvert_exporter": "python",
   "pygments_lexer": "ipython2",
   "version": "2.7.15rc1"
  }
 },
 "nbformat": 4,
 "nbformat_minor": 2
}
