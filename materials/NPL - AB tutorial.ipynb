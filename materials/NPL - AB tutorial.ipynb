{
 "cells": [
  {
   "cell_type": "code",
   "execution_count": null,
   "metadata": {},
   "outputs": [],
   "source": [
    "import numpy as np\n",
    "import pandas as pd\n",
    "import seaborn as sns\n",
    "from pylab import *\n",
    "\n",
    "import scipy.stats as stats\n",
    "import statsmodels.stats.weightstats as wstats\n",
    "%matplotlib inline"
   ]
  },
  {
   "cell_type": "code",
   "execution_count": null,
   "metadata": {},
   "outputs": [],
   "source": [
    "!cat experiment_stats.csv | head"
   ]
  },
  {
   "cell_type": "code",
   "execution_count": null,
   "metadata": {},
   "outputs": [],
   "source": [
    "data = pd.read_csv('experiment_stats.csv')\n",
    "data.head()"
   ]
  },
  {
   "cell_type": "code",
   "execution_count": null,
   "metadata": {},
   "outputs": [],
   "source": [
    "data.mean()"
   ]
  },
  {
   "cell_type": "code",
   "execution_count": null,
   "metadata": {},
   "outputs": [],
   "source": [
    "plt.figure(figsize=(15,8))\n",
    "data.query('30000 > ord_value > 0').ord_value.hist(bins=200)\n",
    "#data.query('variant == 0 & 50000 > ord_value > 0').ord_value.hist(bins=100)"
   ]
  },
  {
   "cell_type": "code",
   "execution_count": null,
   "metadata": {},
   "outputs": [],
   "source": [
    "# Для удобства добавим колонку \"конверсия\"\n",
    "data['conversion'] = data['ord_value'].apply(lambda x: 1 if x > 0 else 0)"
   ]
  },
  {
   "cell_type": "code",
   "execution_count": null,
   "metadata": {},
   "outputs": [],
   "source": [
    "data.groupby('variant').mean()"
   ]
  },
  {
   "cell_type": "code",
   "execution_count": null,
   "metadata": {},
   "outputs": [],
   "source": [
    "data.groupby('variant').conversion.count()"
   ]
  },
  {
   "cell_type": "code",
   "execution_count": null,
   "metadata": {},
   "outputs": [],
   "source": []
  },
  {
   "cell_type": "code",
   "execution_count": null,
   "metadata": {},
   "outputs": [],
   "source": []
  },
  {
   "cell_type": "code",
   "execution_count": null,
   "metadata": {},
   "outputs": [],
   "source": [
    "c0 = 100*data[data['variant'] == 0].expanding(1500).mean()['conversion'][:80000]\n",
    "c1 = 100*data[data['variant'] == 1].expanding(1500).mean()['conversion'][:80000]\n",
    "\n",
    "# create dashboard\n",
    "fig, ax = plt.subplots(figsize=(14,6))    \n",
    "plot(c0)\n",
    "plot(c1)\n",
    "title('Cumulative conversion rate', fontdict={'size':16})\n",
    "\n",
    "xlabel('sessions')\n",
    "ylabel('conversion')\n",
    "plt.grid(True)\n",
    "xlim(0, 150000)\n",
    "ylim(3.7,4.8)"
   ]
  },
  {
   "cell_type": "code",
   "execution_count": null,
   "metadata": {},
   "outputs": [],
   "source": []
  },
  {
   "cell_type": "markdown",
   "metadata": {
    "collapsed": true
   },
   "source": [
    "## Two Samples z-test for Proportions\n",
    "\n",
    "## $z = \\frac{\\hat{p_1}-\\hat{p_2}}{\\sqrt{\\hat{p} (1-\\hat{p}) (\\frac{1}{n_1} + \\frac{1}{n_2})}} $\n",
    "where\n",
    "\n",
    "### $\\hat{p_1} = \\frac{x_1}{n_1}, \\hat{p_2} = \\frac{x_2}{n_2} $\n",
    "### $\\hat{p} = \\frac{x_1 + x_2}{n_1 + n_2}$\n",
    "$x_1, x_2$ - number of successes in group 1 and 2\n",
    "\n",
    "$n_1, n_2$ - number of observations in group 1 and 2"
   ]
  },
  {
   "cell_type": "code",
   "execution_count": null,
   "metadata": {},
   "outputs": [],
   "source": [
    "# implementation from scratch\n",
    "def ztest_proportion_two_samples(x1, n1, x2, n2, one_sided=False):\n",
    "    p1 = x1/n1\n",
    "    p2 = x2/n2    \n",
    "\n",
    "    p = (x1+x2)/(n1+n2)\n",
    "    denom = sqrt(p*(1-p)*(1/n1+1/n2))\n",
    "    \n",
    "    z = (p1-p2)/denom\n",
    "    p = 1-stats.norm.cdf(abs(z))\n",
    "    p *= 2-one_sided # if not one_sided: p *= 2\n",
    "    \n",
    "    print(xa, na, xb, nb)\n",
    "    print('z-stat = {z}'.format(z=z))\n",
    "    print('p-value = {p}'.format(p=p))\n",
    "    \n",
    "    return p"
   ]
  },
  {
   "cell_type": "code",
   "execution_count": null,
   "metadata": {},
   "outputs": [],
   "source": [
    "k = 100000\n",
    "d = data.iloc[:k, :]\n",
    "\n",
    "xa = d[d.variant == 0].conversion.sum()\n",
    "na = d[d.variant == 0].conversion.count()\n",
    "\n",
    "xb = d[d.variant == 1].conversion.sum()\n",
    "nb = d[d.variant == 1].conversion.count()\n",
    "\n",
    "p = ztest_proportion_two_samples(xa, na, xb, nb, one_sided=False)"
   ]
  },
  {
   "cell_type": "code",
   "execution_count": null,
   "metadata": {},
   "outputs": [],
   "source": [
    "# using statsmodels\n",
    "from statsmodels.stats.proportion import proportions_ztest\n",
    "\n",
    "count = np.array([xa, xb])\n",
    "nobs = np.array([na, nb])\n",
    "z,p = proportions_ztest(count, nobs, value=0, alternative='two-sided')\n",
    "print(' z-stat = {z} \\n p-value = {p}'.format(z=z,p=p))"
   ]
  },
  {
   "cell_type": "markdown",
   "metadata": {},
   "source": [
    "## $CI = (\\hat{p_1} - \\hat{p_2}) ± z_{critical} \\cdot SE $ \n",
    "\n",
    "$SE = \\sqrt{ \\frac{\\hat{p_1}(1-\\hat{p_1})}{n_1} + \\frac{\\hat{p_2}(1-\\hat{p_2})}{n_2} }  $\n",
    "\n",
    "where\n",
    "\n",
    "$\\hat{p_1}, \\hat{p_2}$ - proportion in group 1 and 2\n",
    "\n",
    "\n",
    "$n_1, n_2$ - number of observations in group 1 and 2"
   ]
  },
  {
   "cell_type": "code",
   "execution_count": null,
   "metadata": {},
   "outputs": [],
   "source": [
    "def compute_standard_error_prop_two_samples(x1, n1, x2, n2, alpha=0.05):\n",
    "    p1 = x1/n1\n",
    "    p2 = x2/n2    \n",
    "    se = p1*(1-p1)/n1 + p2*(1-p2)/n2\n",
    "    return sqrt(se)\n",
    "    \n",
    "def zconf_interval_two_samples(x1, n1, x2, n2, alpha=0.05):\n",
    "    p1 = x1/n1\n",
    "    p2 = x2/n2    \n",
    "    se = compute_standard_error_prop_two_samples(x1, n1, x2, n2)\n",
    "    z_critical = stats.norm.ppf(1-0.5*alpha)\n",
    "    \n",
    "    ci_low = p2-p1-z_critical*se\n",
    "    ci_upp = p2-p1+z_critical*se\n",
    "    \n",
    "    print(' 95% Confidence Interval = ( {0:.2f}% , {1:.2f}% )'.format(100*ci_low, 100*ci_upp))\n",
    "    return ci_low, ci_upp"
   ]
  },
  {
   "cell_type": "code",
   "execution_count": null,
   "metadata": {},
   "outputs": [],
   "source": [
    "ci_low, ci_upp = zconf_interval_two_samples(xa, na, xb, nb, alpha=0.05)"
   ]
  },
  {
   "cell_type": "code",
   "execution_count": null,
   "metadata": {},
   "outputs": [],
   "source": []
  },
  {
   "cell_type": "code",
   "execution_count": null,
   "metadata": {},
   "outputs": [],
   "source": []
  },
  {
   "cell_type": "code",
   "execution_count": null,
   "metadata": {},
   "outputs": [],
   "source": [
    "d = data\n",
    "#d = data[data.ord_value < 100000]\n",
    "\n",
    "c0 = d[d['variant'] == 0].expanding(15000).mean()['ord_value'][:1000000]\n",
    "c1 = d[d['variant'] == 1].expanding(15000).mean()['ord_value'][:1000000]\n",
    "\n",
    "# create dashboard\n",
    "fig, ax = plt.subplots(figsize=(14,6))    \n",
    "plot(c0)\n",
    "plot(c1)\n",
    "title('AOV', fontdict={'size':16})\n",
    "\n",
    "xlabel('sessions')\n",
    "ylabel('average ordered value')\n",
    "plt.grid(True)\n",
    "#xlim(0, 500000)\n",
    "#ylim(3.7,4.8)"
   ]
  },
  {
   "cell_type": "code",
   "execution_count": null,
   "metadata": {},
   "outputs": [],
   "source": [
    "data.sort_values(by='ord_value',ascending=False).head()"
   ]
  },
  {
   "cell_type": "code",
   "execution_count": null,
   "metadata": {},
   "outputs": [],
   "source": [
    "from scipy.stats import mannwhitneyu\n",
    "print(mannwhitneyu.__doc__)"
   ]
  },
  {
   "cell_type": "code",
   "execution_count": null,
   "metadata": {},
   "outputs": [],
   "source": [
    "d = data\n",
    "\n",
    "test = d[d.variant == 1].ord_value\n",
    "control = d[d.variant == 0].ord_value\n",
    "\n",
    "mannwhitneyu(test, control, alternative='greater')[1]"
   ]
  },
  {
   "cell_type": "code",
   "execution_count": null,
   "metadata": {},
   "outputs": [],
   "source": []
  },
  {
   "cell_type": "code",
   "execution_count": null,
   "metadata": {},
   "outputs": [],
   "source": []
  }
 ],
 "metadata": {
  "kernelspec": {
   "display_name": "Python 3",
   "language": "python",
   "name": "python3"
  },
  "language_info": {
   "codemirror_mode": {
    "name": "ipython",
    "version": 3
   },
   "file_extension": ".py",
   "mimetype": "text/x-python",
   "name": "python",
   "nbconvert_exporter": "python",
   "pygments_lexer": "ipython3",
   "version": "3.7.0"
  }
 },
 "nbformat": 4,
 "nbformat_minor": 2
}
