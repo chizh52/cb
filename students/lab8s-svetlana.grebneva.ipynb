{
 "cells": [
  {
   "cell_type": "code",
   "execution_count": 1,
   "metadata": {},
   "outputs": [
    {
     "name": "stdout",
     "output_type": "stream",
     "text": [
      "Welcome to\n",
      "      ____              __\n",
      "     / __/__  ___ _____/ /__\n",
      "    _\\ \\/ _ \\/ _ `/ __/  '_/\n",
      "   /__ / .__/\\_,_/_/ /_/\\_\\   version 2.3.2\n",
      "      /_/\n",
      "\n",
      "Using Python version 3.6.5 (default, Apr 29 2018 16:14:56)\n",
      "SparkSession available as 'spark'.\n"
     ]
    }
   ],
   "source": [
    "import os\n",
    "import sys\n",
    "\n",
    "os.environ[\"PYSPARK_SUBMIT_ARGS\"]='pyspark-shell'\n",
    "os.environ[\"PYSPARK_PYTHON\"]='/opt/anaconda/envs/bd9/bin/python'\n",
    "os.environ[\"SPARK_HOME\"]='/usr/hdp/current/spark2-client'\n",
    "\n",
    "spark_home = os.environ.get('SPARK_HOME', None)\n",
    "if not spark_home:\n",
    "    raise ValueError('SPARK_HOME environment variable is not set')\n",
    "sys.path.insert(0, os.path.join(spark_home, 'python'))\n",
    "sys.path.insert(0, os.path.join(spark_home, 'python/lib/py4j-0.10.7-src.zip'))\n",
    "exec(open(os.path.join(spark_home, 'python/pyspark/shell.py')).read())"
   ]
  },
  {
   "cell_type": "code",
   "execution_count": 2,
   "metadata": {},
   "outputs": [
    {
     "data": {
      "text/html": [
       "\n",
       "            <div>\n",
       "                <p><b>SparkSession - in-memory</b></p>\n",
       "                \n",
       "        <div>\n",
       "            <p><b>SparkContext</b></p>\n",
       "\n",
       "            <p><a href=\"http://master.cluster-lab.com:4041\">Spark UI</a></p>\n",
       "\n",
       "            <dl>\n",
       "              <dt>Version</dt>\n",
       "                <dd><code>v2.3.2</code></dd>\n",
       "              <dt>Master</dt>\n",
       "                <dd><code>yarn</code></dd>\n",
       "              <dt>AppName</dt>\n",
       "                <dd><code>pyspark-shell</code></dd>\n",
       "            </dl>\n",
       "        </div>\n",
       "        \n",
       "            </div>\n",
       "        "
      ],
      "text/plain": [
       "<pyspark.sql.session.SparkSession at 0x7f4868e2d278>"
      ]
     },
     "execution_count": 2,
     "metadata": {},
     "output_type": "execute_result"
    }
   ],
   "source": [
    "spark"
   ]
  },
  {
   "cell_type": "code",
   "execution_count": 3,
   "metadata": {},
   "outputs": [
    {
     "name": "stdout",
     "output_type": "stream",
     "text": [
      "Populating the interactive namespace from numpy and matplotlib\n"
     ]
    }
   ],
   "source": [
    "%pylab inline"
   ]
  },
  {
   "cell_type": "markdown",
   "metadata": {},
   "source": [
    "Зальем данные на spark"
   ]
  },
  {
   "cell_type": "code",
   "execution_count": 4,
   "metadata": {},
   "outputs": [],
   "source": [
    "from pyspark.sql.types import *"
   ]
  },
  {
   "cell_type": "code",
   "execution_count": 5,
   "metadata": {},
   "outputs": [
    {
     "name": "stdout",
     "output_type": "stream",
     "text": [
      "1|24|M|technician|85711\r\n",
      "2|53|F|other|94043\r\n",
      "3|23|M|writer|32067\r\n",
      "4|24|M|technician|43537\r\n",
      "5|33|F|other|15213\r\n",
      "6|42|M|executive|98101\r\n",
      "7|57|M|administrator|91344\r\n",
      "8|36|M|administrator|05201\r\n",
      "9|29|M|student|01002\r\n",
      "10|53|M|lawyer|90703\r\n",
      "11|39|F|other|30329\r\n",
      "12|28|F|other|06405\r\n",
      "13|47|M|educator|29206\r\n",
      "14|45|M|scientist|55106\r\n",
      "15|49|F|educator|97301\r\n",
      "16|21|M|entertainment|10309\r\n",
      "17|30|M|programmer|06355\r\n",
      "18|35|F|other|37212\r\n",
      "19|40|M|librarian|02138\r\n",
      "20|42|F|homemaker|95660\r\n",
      "21|26|M|writer|30068\r\n",
      "22|25|M|writer|40206\r\n",
      "23|30|F|artist|48197\r\n",
      "24|21|F|artist|94533\r\n",
      "25|39|M|engineer|55107\r\n",
      "26|49|M|engineer|21044\r\n",
      "27|40|F|librarian|30030\r\n",
      "28|32|M|writer|55369\r\n",
      "29|41|M|programmer|94043\r\n",
      "30|7|M|student|55436\r\n",
      "31|24|M|artist|10003\r\n",
      "32|28|F|student|78741\r\n",
      "33|23|M|student|27510\r\n",
      "34|38|F|administrator|42141\r\n",
      "35|20|F|homemaker|42459\r\n",
      "36|19|F|student|93117\r\n",
      "37|23|M|student|55105\r\n",
      "38|28|F|other|54467\r\n",
      "39|41|M|entertainment|01040\r\n",
      "40|38|M|scientist|27514\r\n",
      "41|33|M|engineer|80525\r\n",
      "42|30|M|administrator|17870\r\n",
      "43|29|F|librarian|20854\r\n",
      "44|26|M|technician|46260\r\n",
      "45|29|M|progra"
     ]
    }
   ],
   "source": [
    "!hdfs dfs -head /labs/lab06data/ml-100k/u.user"
   ]
  },
  {
   "cell_type": "code",
   "execution_count": 6,
   "metadata": {},
   "outputs": [],
   "source": [
    "schema_user = StructType(fields=[\n",
    "    StructField(\"user_id\", IntegerType()),\n",
    "    StructField(\"age\", IntegerType()),\n",
    "    StructField(\"gender\", StringType()),\n",
    "    StructField(\"profession\", StringType()),\n",
    "    StructField(\"timesamp\", IntegerType())\n",
    "])"
   ]
  },
  {
   "cell_type": "code",
   "execution_count": 7,
   "metadata": {},
   "outputs": [],
   "source": [
    "users = spark.read.csv(\"/labs/lab06data/ml-100k/u.user\", schema=schema_user, sep=\"|\")"
   ]
  },
  {
   "cell_type": "code",
   "execution_count": 8,
   "metadata": {},
   "outputs": [
    {
     "data": {
      "text/plain": [
       "943"
      ]
     },
     "execution_count": 8,
     "metadata": {},
     "output_type": "execute_result"
    }
   ],
   "source": [
    "users.count()"
   ]
  },
  {
   "cell_type": "code",
   "execution_count": 9,
   "metadata": {},
   "outputs": [
    {
     "name": "stdout",
     "output_type": "stream",
     "text": [
      "ct?Sunchaser,%20The%20(1996)|0|0|0|0|0|0|0|0|1|0|0|0|0|0|0|0|0|0|0\r\n",
      "1676|War at Home, The (1996)|01-Jan-1996||http://us.imdb.com/M/title-exact?War%20at%20Home%2C%20The%20%281996%29|0|0|0|0|0|0|0|0|1|0|0|0|0|0|0|0|0|0|0\r\n",
      "1677|Sweet Nothing (1995)|20-Sep-1996||http://us.imdb.com/M/title-exact?Sweet%20Nothing%20(1995)|0|0|0|0|0|0|0|0|1|0|0|0|0|0|0|0|0|0|0\r\n",
      "1678|Mat' i syn (1997)|06-Feb-1998||http://us.imdb.com/M/title-exact?Mat%27+i+syn+(1997)|0|0|0|0|0|0|0|0|1|0|0|0|0|0|0|0|0|0|0\r\n",
      "1679|B. Monkey (1998)|06-Feb-1998||http://us.imdb.com/M/title-exact?B%2E+Monkey+(1998)|0|0|0|0|0|0|0|0|0|0|0|0|0|0|1|0|1|0|0\r\n",
      "1680|Sliding Doors (1998)|01-Jan-1998||http://us.imdb.com/Title?Sliding+Doors+(1998)|0|0|0|0|0|0|0|0|1|0|0|0|0|0|1|0|0|0|0\r\n",
      "1681|You So Crazy (1994)|01-Jan-1994||http://us.imdb.com/M/title-exact?You%20So%20Crazy%20(1994)|0|0|0|0|0|1|0|0|0|0|0|0|0|0|0|0|0|0|0\r\n",
      "1682|Scream of Stone (Schrei aus Stein) (1991)|08-Mar-1996||http://us.imdb.com/M/title-exact?Schrei%20aus%20Stein%20(1991)|0|0|0|0|0|0|0|0|1|0|0|0|0|0|0|0|0|0|0\r\n"
     ]
    }
   ],
   "source": [
    "!hdfs dfs -tail /labs/lab06data/ml-100k/u.item"
   ]
  },
  {
   "cell_type": "code",
   "execution_count": 10,
   "metadata": {},
   "outputs": [],
   "source": [
    "schema_data = StructType(fields=[\n",
    "    StructField(\"user_id\", IntegerType()),\n",
    "    StructField(\"item_id\", IntegerType()),\n",
    "    StructField(\"rating\", IntegerType()),\n",
    "    StructField(\"timestamp\", IntegerType())\n",
    "])"
   ]
  },
  {
   "cell_type": "code",
   "execution_count": 11,
   "metadata": {},
   "outputs": [],
   "source": [
    "data = spark.read.csv(\"/labs/lab06data/ml-100k/u.data\", schema=schema_data, sep=\"\\t\")"
   ]
  },
  {
   "cell_type": "code",
   "execution_count": 12,
   "metadata": {},
   "outputs": [
    {
     "name": "stdout",
     "output_type": "stream",
     "text": [
      "+-------+-------+------+---------+\n",
      "|user_id|item_id|rating|timestamp|\n",
      "+-------+-------+------+---------+\n",
      "|    196|    242|     3|881250949|\n",
      "|    186|    302|     3|891717742|\n",
      "|     22|    377|     1|878887116|\n",
      "|    244|     51|     2|880606923|\n",
      "|    166|    346|     1|886397596|\n",
      "+-------+-------+------+---------+\n",
      "only showing top 5 rows\n",
      "\n"
     ]
    }
   ],
   "source": [
    "data.show(5)"
   ]
  },
  {
   "cell_type": "code",
   "execution_count": 18,
   "metadata": {},
   "outputs": [
    {
     "data": {
      "text/plain": [
       "100000"
      ]
     },
     "execution_count": 18,
     "metadata": {},
     "output_type": "execute_result"
    }
   ],
   "source": [
    "data.count()"
   ]
  },
  {
   "cell_type": "code",
   "execution_count": 13,
   "metadata": {},
   "outputs": [],
   "source": [
    "schema_item = StructType(fields=[\n",
    "    StructField(\"item_id\", IntegerType()),\n",
    "    StructField(\"name\", StringType()),\n",
    "    StructField(\"timestamp\", StringType()),\n",
    "    StructField(\"emppy\", StringType()),         \n",
    "    StructField(\"url\", StringType()),\n",
    "    StructField(\"id1\", IntegerType()), \n",
    "    StructField(\"id2\", IntegerType()),\n",
    "    StructField(\"id3\", IntegerType()), \n",
    "    StructField(\"id4\", IntegerType()),\n",
    "    StructField(\"id5\", IntegerType()), \n",
    "    StructField(\"id6\", IntegerType()),\n",
    "    StructField(\"id7\", IntegerType()), \n",
    "    StructField(\"id8\", IntegerType()),\n",
    "    StructField(\"id9\", IntegerType()), \n",
    "    StructField(\"id10\", IntegerType()),\n",
    "    StructField(\"id11\", IntegerType()), \n",
    "    StructField(\"id12\", IntegerType()),\n",
    "    StructField(\"id13\", IntegerType()), \n",
    "    StructField(\"id14\", IntegerType()),\n",
    "    StructField(\"id15\", IntegerType()), \n",
    "    StructField(\"id16\", IntegerType()),\n",
    "    StructField(\"id17\", IntegerType()),\n",
    "    StructField(\"id18\", IntegerType()), \n",
    "    StructField(\"id19\", IntegerType())])"
   ]
  },
  {
   "cell_type": "code",
   "execution_count": 14,
   "metadata": {},
   "outputs": [],
   "source": [
    "item = spark.read\\\n",
    "          .schema(schema_item)\\\n",
    "          .format(\"csv\")\\\n",
    "          .option(\"sep\", \"|\")\\\n",
    "          .load(\"/labs/lab06data/ml-100k/u.item\")"
   ]
  },
  {
   "cell_type": "code",
   "execution_count": 15,
   "metadata": {},
   "outputs": [
    {
     "name": "stdout",
     "output_type": "stream",
     "text": [
      "root\n",
      " |-- item_id: integer (nullable = true)\n",
      " |-- name: string (nullable = true)\n",
      " |-- timestamp: string (nullable = true)\n",
      " |-- emppy: string (nullable = true)\n",
      " |-- url: string (nullable = true)\n",
      " |-- id1: integer (nullable = true)\n",
      " |-- id2: integer (nullable = true)\n",
      " |-- id3: integer (nullable = true)\n",
      " |-- id4: integer (nullable = true)\n",
      " |-- id5: integer (nullable = true)\n",
      " |-- id6: integer (nullable = true)\n",
      " |-- id7: integer (nullable = true)\n",
      " |-- id8: integer (nullable = true)\n",
      " |-- id9: integer (nullable = true)\n",
      " |-- id10: integer (nullable = true)\n",
      " |-- id11: integer (nullable = true)\n",
      " |-- id12: integer (nullable = true)\n",
      " |-- id13: integer (nullable = true)\n",
      " |-- id14: integer (nullable = true)\n",
      " |-- id15: integer (nullable = true)\n",
      " |-- id16: integer (nullable = true)\n",
      " |-- id17: integer (nullable = true)\n",
      " |-- id18: integer (nullable = true)\n",
      " |-- id19: integer (nullable = true)\n",
      "\n"
     ]
    }
   ],
   "source": [
    "item.printSchema()"
   ]
  },
  {
   "cell_type": "code",
   "execution_count": 16,
   "metadata": {},
   "outputs": [
    {
     "name": "stdout",
     "output_type": "stream",
     "text": [
      "-RECORD 0-----------------------------------------------------\n",
      " item_id   | 1422                                             \n",
      " name      | Suture (1993)                                    \n",
      " timestamp | 01-Jan-1993                                      \n",
      " url       | http://us.imdb.com/M/title-exact?Suture%20(1993) \n",
      "\n"
     ]
    }
   ],
   "source": [
    "item.select(\"item_id\", \"name\", \"timestamp\", \"url\").where(\"item_id = 1422\").show(3,False, True)"
   ]
  },
  {
   "cell_type": "markdown",
   "metadata": {},
   "source": [
    "# Лаб8"
   ]
  },
  {
   "cell_type": "code",
   "execution_count": null,
   "metadata": {},
   "outputs": [],
   "source": [
    "import pyspark.sql.functions as f"
   ]
  },
  {
   "cell_type": "code",
   "execution_count": 23,
   "metadata": {},
   "outputs": [],
   "source": [
    "data.registerTempTable(\"data_table\")"
   ]
  },
  {
   "cell_type": "markdown",
   "metadata": {},
   "source": [
    "Считаем средний реитинг для каждого пользователя.\n",
    "\n",
    "Часть 2. User-user CF:\n",
    "\n",
    "1. Для каждого пользователя найдите его средний рейтинг (сумма рейтингов пользователя/количество рейтингов пользователя). Здесь Ia — множество фильмов, по которым у пользователя есть рейтинги rui. Здесь и далее |Ia| обозначает количество элементов в множестве Ia.\n"
   ]
  },
  {
   "cell_type": "code",
   "execution_count": 24,
   "metadata": {},
   "outputs": [],
   "source": [
    "query_avg_user = \"\"\"\n",
    "SELECT t.user_id,\n",
    "       sum(rating) as sum_rating, \n",
    "       count(item_id) as count_rating,\n",
    "       sum(rating)/count(item_id) as avr_rating\n",
    "FROM   data_table t\n",
    "group by t.user_id\n",
    "\"\"\"       "
   ]
  },
  {
   "cell_type": "code",
   "execution_count": 27,
   "metadata": {},
   "outputs": [],
   "source": [
    "data_user = spark.sql(query_avg_user).repartition(4).cache()"
   ]
  },
  {
   "cell_type": "code",
   "execution_count": 28,
   "metadata": {},
   "outputs": [
    {
     "name": "stdout",
     "output_type": "stream",
     "text": [
      "+-------+----------+------------+------------------+\n",
      "|user_id|sum_rating|count_rating|        avr_rating|\n",
      "+-------+----------+------------+------------------+\n",
      "|     29|       124|          34|3.6470588235294117|\n",
      "|    758|      1384|         357| 3.876750700280112|\n",
      "+-------+----------+------------+------------------+\n",
      "\n"
     ]
    }
   ],
   "source": [
    "data_user.where(\"user_id in (29, 758)\").show(5)"
   ]
  },
  {
   "cell_type": "markdown",
   "metadata": {},
   "source": [
    "Фильмы с нужным вариантом."
   ]
  },
  {
   "cell_type": "code",
   "execution_count": 30,
   "metadata": {},
   "outputs": [],
   "source": [
    "item_758 = data.select(\"item_id\").where(\"user_id=758\")"
   ]
  },
  {
   "cell_type": "code",
   "execution_count": 31,
   "metadata": {},
   "outputs": [],
   "source": [
    "data_user.registerTempTable(\"data_user_table\")"
   ]
  },
  {
   "cell_type": "markdown",
   "metadata": {},
   "source": [
    "2. Посчитайте меру близости Пирсона выданного вам пользователя со всеми остальными пользователями. Обратите внимание, что корреляция Пирсона считается только на пересечении, то есть вклад вносят только фильмы, оцененные совместно (Ia, Iu — множества оцененных пользователями a и u фильмов). Корреляция с константой (ситуация, когда у пользователя все оценки одинаковые) равна нулю. \n",
    "\n",
    "В запросе это p\n",
    "\n",
    "3.Посчитайте поправочный коэффициент для корреляции Пирсона на нехватку данных.\n",
    "\n",
    "В запросе это koef\n",
    "\n",
    "4.Найдите 30 ближайших пользователей-соседей данного пользователя (pearson_neighbours), используя поправленную корреляцию Пирсона\n",
    "\n",
    "В запросе Пирсон - это rr\n",
    "Количество мерим row_number() по убыванию корреляции\n",
    "\n",
    "Данные в запросе считаются только по общим фильмам у нашего пользователя и всех остальных."
   ]
  },
  {
   "cell_type": "code",
   "execution_count": 59,
   "metadata": {},
   "outputs": [],
   "source": [
    "query1 = \"\"\"\n",
    "select user_id, rr, koef,p, row_number() over(ORDER BY rr desc) num\n",
    "from  (\n",
    "SELECT t2.user_id,\n",
    "       (case when count(t2.item_id)/50 < 1 then count(t2.item_id)/50 else 1 end) *\n",
    "       sum((t1.rating-dt1.avr_rating)*(t2.rating-dt2.avr_rating))/\n",
    "        ((sqrt(sum((t1.rating-dt1.avr_rating)*(t1.rating-dt1.avr_rating))))*\n",
    "         (sqrt(sum((t2.rating-dt2.avr_rating)*(t2.rating-dt2.avr_rating))))) as rr,\n",
    "         \n",
    "       case when count(t2.item_id)/50 < 1 then count(t2.item_id)/50 else 1 end as koef,\n",
    "       \n",
    "       sum((t1.rating-dt1.avr_rating)*(t2.rating-dt2.avr_rating))/\n",
    "       ((sqrt(sum((t1.rating-dt1.avr_rating)*(t1.rating-dt1.avr_rating))))*\n",
    "        (sqrt(sum((t2.rating-dt2.avr_rating)*(t2.rating-dt2.avr_rating))))) as p\n",
    "        \n",
    "FROM   data_table t1 \n",
    "join   data_table t2 on t1.item_id = t2.item_id\n",
    "join   data_user_table dt1 on dt1.user_id = t1.user_id\n",
    "join   data_user_table dt2 on dt2.user_id = t2.user_id\n",
    "where t1.user_id = 758 \n",
    "AND   t2.user_id <> 758\n",
    "group by t2.user_id)\n",
    "\"\"\"       "
   ]
  },
  {
   "cell_type": "code",
   "execution_count": 60,
   "metadata": {},
   "outputs": [],
   "source": [
    "neighbours = spark.sql(query1).repartition(4).cache()"
   ]
  },
  {
   "cell_type": "code",
   "execution_count": 61,
   "metadata": {},
   "outputs": [],
   "source": [
    "neighbours_list = spark.sql(query1).take(30)"
   ]
  },
  {
   "cell_type": "code",
   "execution_count": 62,
   "metadata": {},
   "outputs": [
    {
     "data": {
      "text/plain": [
       "[Row(user_id=381, rr=0.5853978722663211, koef=1.0, p=0.5853978722663211, num=1),\n",
       " Row(user_id=741, rr=0.5459853163084785, koef=1.0, p=0.5459853163084785, num=2),\n",
       " Row(user_id=303, rr=0.5258646182437792, koef=1.0, p=0.5258646182437792, num=3),\n",
       " Row(user_id=892, rr=0.5130745966320297, koef=1.0, p=0.5130745966320297, num=4),\n",
       " Row(user_id=343, rr=0.5000162518453979, koef=1.0, p=0.5000162518453979, num=5),\n",
       " Row(user_id=640, rr=0.4833442802540537, koef=1.0, p=0.4833442802540537, num=6),\n",
       " Row(user_id=77, rr=0.47394946232087243, koef=0.94, p=0.5042015556605026, num=7),\n",
       " Row(user_id=268, rr=0.47382412556712833, koef=1.0, p=0.47382412556712833, num=8),\n",
       " Row(user_id=397, rr=0.4638853118060365, koef=1.0, p=0.4638853118060365, num=9),\n",
       " Row(user_id=267, rr=0.4626720401786975, koef=1.0, p=0.4626720401786975, num=10),\n",
       " Row(user_id=854, rr=0.4617060253043892, koef=1.0, p=0.4617060253043892, num=11),\n",
       " Row(user_id=890, rr=0.46090113148624506, koef=1.0, p=0.46090113148624506, num=12),\n",
       " Row(user_id=543, rr=0.45884284705301565, koef=1.0, p=0.45884284705301565, num=13),\n",
       " Row(user_id=344, rr=0.45410833355604135, koef=1.0, p=0.45410833355604135, num=14),\n",
       " Row(user_id=121, rr=0.4525146735826692, koef=0.96, p=0.47136945164861377, num=15),\n",
       " Row(user_id=592, rr=0.44347197854613285, koef=1.0, p=0.44347197854613285, num=16),\n",
       " Row(user_id=409, rr=0.4390558747356671, koef=1.0, p=0.4390558747356671, num=17),\n",
       " Row(user_id=776, rr=0.43654074242313223, koef=0.98, p=0.4454497371664615, num=18),\n",
       " Row(user_id=757, rr=0.43548231762997647, koef=1.0, p=0.43548231762997647, num=19),\n",
       " Row(user_id=407, rr=0.43087061207872235, koef=1.0, p=0.43087061207872235, num=20),\n",
       " Row(user_id=118, rr=0.42328372397127756, koef=0.76, p=0.55695226838326, num=21),\n",
       " Row(user_id=933, rr=0.42229546529609013, koef=1.0, p=0.42229546529609013, num=22),\n",
       " Row(user_id=870, rr=0.41688460972618685, koef=1.0, p=0.41688460972618685, num=23),\n",
       " Row(user_id=293, rr=0.41620980057773355, koef=1.0, p=0.41620980057773355, num=24),\n",
       " Row(user_id=216, rr=0.4134699177835073, koef=1.0, p=0.4134699177835073, num=25),\n",
       " Row(user_id=538, rr=0.41311990768356294, koef=1.0, p=0.41311990768356294, num=26),\n",
       " Row(user_id=345, rr=0.41046468182171225, koef=1.0, p=0.41046468182171225, num=27),\n",
       " Row(user_id=643, rr=0.4101360482298208, koef=1.0, p=0.4101360482298208, num=28),\n",
       " Row(user_id=246, rr=0.41006220888551353, koef=1.0, p=0.41006220888551353, num=29),\n",
       " Row(user_id=457, rr=0.40363900751154025, koef=1.0, p=0.40363900751154025, num=30)]"
      ]
     },
     "execution_count": 62,
     "metadata": {},
     "output_type": "execute_result"
    }
   ],
   "source": [
    "neighbours_list"
   ]
  },
  {
   "cell_type": "code",
   "execution_count": 41,
   "metadata": {},
   "outputs": [
    {
     "name": "stdout",
     "output_type": "stream",
     "text": [
      "+-------+------------------+----+------------------+\n",
      "|user_id|                rr|koef|                 p|\n",
      "+-------+------------------+----+------------------+\n",
      "|    294|0.2038110594679973| 1.0|0.2038110594679973|\n",
      "|    741|0.5459853163084785| 1.0|0.5459853163084785|\n",
      "|    276|0.3762606341923976| 1.0|0.3762606341923976|\n",
      "|    334|0.3716597603142623| 1.0|0.3716597603142623|\n",
      "|    115|0.3546515367759388| 1.0|0.3546515367759388|\n",
      "+-------+------------------+----+------------------+\n",
      "only showing top 5 rows\n",
      "\n"
     ]
    }
   ],
   "source": [
    "neighbours.show(5)"
   ]
  },
  {
   "cell_type": "markdown",
   "metadata": {},
   "source": [
    "5. Для всех фильмов найдите прогноз оценки по формуле ниже. Здесь N(a) — множество пользователей-соседей, s(a,u) — мера близости пользователей из предыдущих пунктов, |s(a,u)| — модуль меры близости."
   ]
  },
  {
   "cell_type": "code",
   "execution_count": 42,
   "metadata": {},
   "outputs": [],
   "source": [
    "neighbours.registerTempTable(\"neighbours_table\")"
   ]
  },
  {
   "cell_type": "code",
   "execution_count": 43,
   "metadata": {},
   "outputs": [],
   "source": [
    "item_758.registerTempTable(\"item_758_table\") "
   ]
  },
  {
   "cell_type": "code",
   "execution_count": 65,
   "metadata": {},
   "outputs": [],
   "source": [
    "query2 = \"\"\"\n",
    "select d.item_id,\n",
    "       3.876750700280112 + \n",
    "       sum(n.rr*(d.rating-u.avr_rating))/sum(abs(n.rr)) as rating_new\n",
    "from   data_table d \n",
    "join   neighbours_table n on d.user_id = n.user_id\n",
    "join   data_user_table u on u.user_id = d.user_id\n",
    "join   item_758_table i on d.item_id <> i.item_id\n",
    "where  n.num <31\n",
    "group by d.item_id\n",
    "order by 2 desc,1\n",
    "\"\"\""
   ]
  },
  {
   "cell_type": "code",
   "execution_count": 66,
   "metadata": {},
   "outputs": [],
   "source": [
    "item_out = spark.sql(query2).take(10)"
   ]
  },
  {
   "cell_type": "code",
   "execution_count": 67,
   "metadata": {},
   "outputs": [
    {
     "data": {
      "text/plain": [
       "[Row(item_id=793, rating_new=5.423219101767111),\n",
       " Row(item_id=923, rating_new=5.285617695353995),\n",
       " Row(item_id=1449, rating_new=5.285617695353995),\n",
       " Row(item_id=1512, rating_new=5.285617695353995),\n",
       " Row(item_id=1558, rating_new=5.285617695353995),\n",
       " Row(item_id=119, rating_new=5.208329647648536),\n",
       " Row(item_id=661, rating_new=5.17368001037895),\n",
       " Row(item_id=60, rating_new=5.1710065708874655),\n",
       " Row(item_id=611, rating_new=5.170868347338941),\n",
       " Row(item_id=741, rating_new=5.1408659823158285)]"
      ]
     },
     "execution_count": 67,
     "metadata": {},
     "output_type": "execute_result"
    }
   ],
   "source": [
    "item_out"
   ]
  },
  {
   "cell_type": "code",
   "execution_count": 68,
   "metadata": {},
   "outputs": [],
   "source": [
    "list_out_n = [x['user_id'] for x in neighbours_list]"
   ]
  },
  {
   "cell_type": "code",
   "execution_count": 69,
   "metadata": {},
   "outputs": [],
   "source": [
    "pearson_top10 = [x['item_id'] for x in item_out]"
   ]
  },
  {
   "cell_type": "code",
   "execution_count": 70,
   "metadata": {},
   "outputs": [
    {
     "data": {
      "text/plain": [
       "[793, 923, 1449, 1512, 1558, 119, 661, 60, 611, 741]"
      ]
     },
     "execution_count": 70,
     "metadata": {},
     "output_type": "execute_result"
    }
   ],
   "source": [
    "pearson_top10"
   ]
  },
  {
   "cell_type": "code",
   "execution_count": 71,
   "metadata": {},
   "outputs": [
    {
     "data": {
      "text/plain": [
       "[381,\n",
       " 741,\n",
       " 303,\n",
       " 892,\n",
       " 343,\n",
       " 640,\n",
       " 77,\n",
       " 268,\n",
       " 397,\n",
       " 267,\n",
       " 854,\n",
       " 890,\n",
       " 543,\n",
       " 344,\n",
       " 121,\n",
       " 592,\n",
       " 409,\n",
       " 776,\n",
       " 757,\n",
       " 407,\n",
       " 118,\n",
       " 933,\n",
       " 870,\n",
       " 293,\n",
       " 216,\n",
       " 538,\n",
       " 345,\n",
       " 643,\n",
       " 246,\n",
       " 457]"
      ]
     },
     "execution_count": 71,
     "metadata": {},
     "output_type": "execute_result"
    }
   ],
   "source": [
    "list_out_n"
   ]
  },
  {
   "cell_type": "markdown",
   "metadata": {},
   "source": [
    "Часть1. Основные характеристики данных MovieLens:"
   ]
  },
  {
   "cell_type": "markdown",
   "metadata": {},
   "source": [
    "1. Найдите количество всех пользователей и количество всех фильмов в данных (общее число пользователей и фильмов в датасете)."
   ]
  },
  {
   "cell_type": "code",
   "execution_count": 72,
   "metadata": {},
   "outputs": [],
   "source": [
    "data_user_distict = data[[\"user_id\"]].distinct()"
   ]
  },
  {
   "cell_type": "code",
   "execution_count": 73,
   "metadata": {},
   "outputs": [
    {
     "data": {
      "text/plain": [
       "943"
      ]
     },
     "execution_count": 73,
     "metadata": {},
     "output_type": "execute_result"
    }
   ],
   "source": [
    "data_user_distict.count()"
   ]
  },
  {
   "cell_type": "code",
   "execution_count": 74,
   "metadata": {},
   "outputs": [],
   "source": [
    "data_item_distict = data[[\"item_id\"]].distinct()"
   ]
  },
  {
   "cell_type": "code",
   "execution_count": 76,
   "metadata": {},
   "outputs": [
    {
     "data": {
      "text/plain": [
       "1682"
      ]
     },
     "execution_count": 76,
     "metadata": {},
     "output_type": "execute_result"
    }
   ],
   "source": [
    "data_item_distict.count()"
   ]
  },
  {
   "cell_type": "markdown",
   "metadata": {},
   "source": [
    "2.Сколько пользователь в среднем ставит рейтингов? Подсчитать количество рейтингов / количество пользователей. "
   ]
  },
  {
   "cell_type": "code",
   "execution_count": 87,
   "metadata": {},
   "outputs": [],
   "source": [
    "average_user_ratings = round(data.count()/data_user_distict.count(),4)"
   ]
  },
  {
   "cell_type": "code",
   "execution_count": 88,
   "metadata": {},
   "outputs": [
    {
     "data": {
      "text/plain": [
       "106.0445"
      ]
     },
     "execution_count": 88,
     "metadata": {},
     "output_type": "execute_result"
    }
   ],
   "source": [
    "average_user_ratings"
   ]
  },
  {
   "cell_type": "markdown",
   "metadata": {},
   "source": [
    "3. Сколько фильм в среднем имеет рейтингов? Подсчитатьколичество рейтингов / количество фильмов. Поле "
   ]
  },
  {
   "cell_type": "code",
   "execution_count": 89,
   "metadata": {},
   "outputs": [],
   "source": [
    "average_film_ratings=round(data.count()/data_item_distict.count(),4)"
   ]
  },
  {
   "cell_type": "code",
   "execution_count": 90,
   "metadata": {},
   "outputs": [
    {
     "data": {
      "text/plain": [
       "59.453"
      ]
     },
     "execution_count": 90,
     "metadata": {},
     "output_type": "execute_result"
    }
   ],
   "source": [
    "average_film_ratings"
   ]
  },
  {
   "cell_type": "markdown",
   "metadata": {},
   "source": [
    "4. Найдите процент заполненных ячеек в данных: количество рейтингов / (количество пользователей * количество фильмов)."
   ]
  },
  {
   "cell_type": "code",
   "execution_count": 82,
   "metadata": {},
   "outputs": [],
   "source": [
    "completeness = round(data.count()/(data_user_distict.count()*data_item_distict.count()),4)"
   ]
  },
  {
   "cell_type": "code",
   "execution_count": 83,
   "metadata": {},
   "outputs": [
    {
     "data": {
      "text/plain": [
       "0.063"
      ]
     },
     "execution_count": 83,
     "metadata": {},
     "output_type": "execute_result"
    }
   ],
   "source": [
    "completeness"
   ]
  },
  {
   "cell_type": "markdown",
   "metadata": {},
   "source": [
    "Сохраняем в json"
   ]
  },
  {
   "cell_type": "code",
   "execution_count": 84,
   "metadata": {},
   "outputs": [],
   "source": [
    "dict_out1 = { \"average_film_ratings\": average_film_ratings,\n",
    "    \"average_user_ratings\": average_user_ratings,\n",
    "    \"completeness\": completeness,\n",
    "    \"pearson_neighbours\": list_out_n,\n",
    "    \"pearson_top10\": pearson_top10\n",
    "     \n",
    "}"
   ]
  },
  {
   "cell_type": "code",
   "execution_count": 85,
   "metadata": {},
   "outputs": [
    {
     "data": {
      "text/plain": [
       "{'average_film_ratings': 59.453,\n",
       " 'average_user_ratings': 106.0445,\n",
       " 'completeness': 0.063,\n",
       " 'pearson_neighbours': [381,\n",
       "  741,\n",
       "  303,\n",
       "  892,\n",
       "  343,\n",
       "  640,\n",
       "  77,\n",
       "  268,\n",
       "  397,\n",
       "  267,\n",
       "  854,\n",
       "  890,\n",
       "  543,\n",
       "  344,\n",
       "  121,\n",
       "  592,\n",
       "  409,\n",
       "  776,\n",
       "  757,\n",
       "  407,\n",
       "  118,\n",
       "  933,\n",
       "  870,\n",
       "  293,\n",
       "  216,\n",
       "  538,\n",
       "  345,\n",
       "  643,\n",
       "  246,\n",
       "  457],\n",
       " 'pearson_top10': [793, 923, 1449, 1512, 1558, 119, 661, 60, 611, 741]}"
      ]
     },
     "execution_count": 85,
     "metadata": {},
     "output_type": "execute_result"
    }
   ],
   "source": [
    "dict_out1"
   ]
  },
  {
   "cell_type": "code",
   "execution_count": 86,
   "metadata": {},
   "outputs": [],
   "source": [
    "import json\n",
    "with open('lab08.json', 'w') as fout:\n",
    "    fout.write(json.dumps(dict_out1))"
   ]
  },
  {
   "cell_type": "markdown",
   "metadata": {},
   "source": [
    "# Ачивка"
   ]
  },
  {
   "cell_type": "markdown",
   "metadata": {},
   "source": [
    "# Часть 3. Базовые предикторы:"
   ]
  },
  {
   "cell_type": "markdown",
   "metadata": {},
   "source": [
    "1. Глобальное среднее 𝞵 (average_rating) по всему датасету. Сумма всех оценок по всем фильмам / Количество всех оценок по всем фильмам."
   ]
  },
  {
   "cell_type": "code",
   "execution_count": 56,
   "metadata": {},
   "outputs": [],
   "source": [
    "average_rating = data.agg(f.sum(\"rating\").alias(\"sum_rating\"),\n",
    "                          f.count(\"item_id\").alias(\"count_rating\"),\n",
    "                         (f.sum(\"rating\")/f.count(\"item_id\")).alias(\"avr_rating\"))"
   ]
  },
  {
   "cell_type": "code",
   "execution_count": 57,
   "metadata": {},
   "outputs": [
    {
     "name": "stdout",
     "output_type": "stream",
     "text": [
      "+----------+------------+----------+\n",
      "|sum_rating|count_rating|avr_rating|\n",
      "+----------+------------+----------+\n",
      "|    352986|      100000|   3.52986|\n",
      "+----------+------------+----------+\n",
      "\n"
     ]
    }
   ],
   "source": [
    "average_rating.show()"
   ]
  },
  {
   "cell_type": "code",
   "execution_count": 58,
   "metadata": {},
   "outputs": [
    {
     "data": {
      "text/plain": [
       "3.5299"
      ]
     },
     "execution_count": 58,
     "metadata": {},
     "output_type": "execute_result"
    }
   ],
   "source": [
    "round(3.52986,4)"
   ]
  },
  {
   "cell_type": "code",
   "execution_count": 91,
   "metadata": {},
   "outputs": [
    {
     "name": "stdout",
     "output_type": "stream",
     "text": [
      "+-------+----------+------------+-----------------+\n",
      "|user_id|sum_rating|count_rating|       avr_rating|\n",
      "+-------+----------+------------+-----------------+\n",
      "|    758|      1384|         357|3.876750700280112|\n",
      "+-------+----------+------------+-----------------+\n",
      "\n"
     ]
    }
   ],
   "source": [
    "data_user.where(\"user_id = 758\").show(3)"
   ]
  },
  {
   "cell_type": "markdown",
   "metadata": {},
   "source": [
    "2) Базовый предиктор для каждого пользователя (суммирование по фильмам, оцененным данным пользователем). Здесь Ia — множество фильмов, по которым у пользователя есть рейтинги, а |Ia| — их количество."
   ]
  },
  {
   "cell_type": "code",
   "execution_count": 94,
   "metadata": {},
   "outputs": [],
   "source": [
    "query4 = \"\"\"\n",
    "select d.user_id,\n",
    "       sum(rating - 3.52986)/(count(d.item_id) + 10) as bu\n",
    "from   data_table d \n",
    "group by d.user_id\n",
    "\"\"\""
   ]
  },
  {
   "cell_type": "code",
   "execution_count": 95,
   "metadata": {},
   "outputs": [],
   "source": [
    "user_bu = spark.sql(query4)"
   ]
  },
  {
   "cell_type": "markdown",
   "metadata": {},
   "source": [
    "проверим для нашего пользователя"
   ]
  },
  {
   "cell_type": "code",
   "execution_count": 96,
   "metadata": {},
   "outputs": [
    {
     "name": "stdout",
     "output_type": "stream",
     "text": [
      "+-------+-------------------+\n",
      "|user_id|                 bu|\n",
      "+-------+-------------------+\n",
      "|    758|0.33743863760217984|\n",
      "+-------+-------------------+\n",
      "\n"
     ]
    }
   ],
   "source": [
    "user_bu.where(\"user_id = 758\").show(2)"
   ]
  },
  {
   "cell_type": "code",
   "execution_count": 92,
   "metadata": {},
   "outputs": [
    {
     "data": {
      "text/plain": [
       "357"
      ]
     },
     "execution_count": 92,
     "metadata": {},
     "output_type": "execute_result"
    }
   ],
   "source": [
    "data.where(\"user_id = 758\").count()"
   ]
  },
  {
   "cell_type": "code",
   "execution_count": 75,
   "metadata": {},
   "outputs": [
    {
     "data": {
      "text/plain": [
       "0.33743863760217974"
      ]
     },
     "execution_count": 75,
     "metadata": {},
     "output_type": "execute_result"
    }
   ],
   "source": [
    "(1384 - 3.52986*357)/(357+10)"
   ]
  },
  {
   "cell_type": "code",
   "execution_count": 97,
   "metadata": {},
   "outputs": [],
   "source": [
    "user_bu.registerTempTable(\"user_bu_table\") "
   ]
  },
  {
   "cell_type": "markdown",
   "metadata": {},
   "source": [
    "3.Базовый предиктор для каждого фильма (суммирование по пользователям, поставившим оценку данному фильму). Здесь Ui — множество пользователей, которые оценили данный фильм, а |Ui| — их количество."
   ]
  },
  {
   "cell_type": "code",
   "execution_count": 98,
   "metadata": {},
   "outputs": [],
   "source": [
    "query5 = \"\"\"\n",
    "select d.item_id,\n",
    "       sum(rating - u.bu - 3.52986)/(count(d.user_id) + 25) as bi\n",
    "from   data_table d join user_bu_table u on u.user_id = d.user_id\n",
    "group by d.item_id\n",
    "\"\"\""
   ]
  },
  {
   "cell_type": "code",
   "execution_count": 99,
   "metadata": {},
   "outputs": [],
   "source": [
    "item_bi = spark.sql(query5)"
   ]
  },
  {
   "cell_type": "code",
   "execution_count": 100,
   "metadata": {},
   "outputs": [
    {
     "name": "stdout",
     "output_type": "stream",
     "text": [
      "+-------+-----------------+\n",
      "|item_id|               bi|\n",
      "+-------+-----------------+\n",
      "|      1|0.292924886016311|\n",
      "+-------+-----------------+\n",
      "\n"
     ]
    }
   ],
   "source": [
    "item_bi.where(\"item_id = 1\").show(3)"
   ]
  },
  {
   "cell_type": "code",
   "execution_count": 101,
   "metadata": {},
   "outputs": [],
   "source": [
    "item_bi.registerTempTable(\"item_bi_table\") "
   ]
  },
  {
   "cell_type": "code",
   "execution_count": 102,
   "metadata": {},
   "outputs": [
    {
     "data": {
      "text/plain": [
       "[Row(item_id=496, bi=Decimal('0.430520332931035')),\n",
       " Row(item_id=463, bi=Decimal('0.163228208578692')),\n",
       " Row(item_id=471, bi=Decimal('0.054588950305639')),\n",
       " Row(item_id=148, bi=Decimal('-0.251341569613545'))]"
      ]
     },
     "execution_count": 102,
     "metadata": {},
     "output_type": "execute_result"
    }
   ],
   "source": [
    "item_bi.take(4)"
   ]
  },
  {
   "cell_type": "code",
   "execution_count": 103,
   "metadata": {},
   "outputs": [
    {
     "data": {
      "text/plain": [
       "1682"
      ]
     },
     "execution_count": 103,
     "metadata": {},
     "output_type": "execute_result"
    }
   ],
   "source": [
    "item_bi.count()"
   ]
  },
  {
   "cell_type": "markdown",
   "metadata": {},
   "source": [
    "4.Базовый предиктор для каждого пользователя и каждого фильма:\n",
    "(количество пользователей * количество фильмов)"
   ]
  },
  {
   "cell_type": "code",
   "execution_count": 104,
   "metadata": {},
   "outputs": [],
   "source": [
    "users.registerTempTable(\"users_table\")"
   ]
  },
  {
   "cell_type": "code",
   "execution_count": 105,
   "metadata": {},
   "outputs": [],
   "source": [
    "item.registerTempTable(\"item_table\")"
   ]
  },
  {
   "cell_type": "code",
   "execution_count": 106,
   "metadata": {},
   "outputs": [],
   "source": [
    "query5_2 = \"\"\"\n",
    "select i.item_id, u.user_id\n",
    "from   users_table u \n",
    "cross join item_table i\n",
    "\"\"\""
   ]
  },
  {
   "cell_type": "code",
   "execution_count": 107,
   "metadata": {},
   "outputs": [],
   "source": [
    "table_cross_all = spark.sql(query5_2).repartition(4).cache()"
   ]
  },
  {
   "cell_type": "code",
   "execution_count": 108,
   "metadata": {},
   "outputs": [
    {
     "data": {
      "text/plain": [
       "1682.0"
      ]
     },
     "execution_count": 108,
     "metadata": {},
     "output_type": "execute_result"
    }
   ],
   "source": [
    "table_cross_all.count()/users.count()"
   ]
  },
  {
   "cell_type": "code",
   "execution_count": 109,
   "metadata": {},
   "outputs": [
    {
     "data": {
      "text/plain": [
       "943.0"
      ]
     },
     "execution_count": 109,
     "metadata": {},
     "output_type": "execute_result"
    }
   ],
   "source": [
    "table_cross_all.count()/item.count()"
   ]
  },
  {
   "cell_type": "code",
   "execution_count": 110,
   "metadata": {},
   "outputs": [],
   "source": [
    "table_cross_all.registerTempTable(\"table_cross_all_table\")"
   ]
  },
  {
   "cell_type": "markdown",
   "metadata": {},
   "source": [
    "Заполним нашу крос таблицу (количество пользователей * количество фильмов) данными"
   ]
  },
  {
   "cell_type": "code",
   "execution_count": 111,
   "metadata": {},
   "outputs": [],
   "source": [
    "query5_1 = \"\"\"\n",
    "SELECT ct.item_id, ct.user_id, \n",
    "       3.52986 as mu,\n",
    "       u.bu,\n",
    "       i.bi, \n",
    "       (3.52986+nvl(u.bu,0)+nvl(i.bi,0)) as bui_base,\n",
    "       nvl(t.rating,0) as rating\n",
    "FROM   table_cross_all_table ct\n",
    "join   item_bi_table i on i.item_id = ct.item_id\n",
    "join   user_bu_table u on u.user_id = ct.user_id\n",
    "left outer join data_table t on ct.item_id = t.item_id and ct.user_id = t.user_id\n",
    "\"\"\"       "
   ]
  },
  {
   "cell_type": "code",
   "execution_count": 112,
   "metadata": {},
   "outputs": [],
   "source": [
    "bui_cross = spark.sql(query5_1).repartition(4).cache()"
   ]
  },
  {
   "cell_type": "code",
   "execution_count": 114,
   "metadata": {},
   "outputs": [
    {
     "data": {
      "text/plain": [
       "1682.0"
      ]
     },
     "execution_count": 114,
     "metadata": {},
     "output_type": "execute_result"
    }
   ],
   "source": [
    "bui_cross.count()/users.count()"
   ]
  },
  {
   "cell_type": "code",
   "execution_count": 120,
   "metadata": {},
   "outputs": [],
   "source": [
    "bui_cross.registerTempTable(\"bui_table\")"
   ]
  },
  {
   "cell_type": "code",
   "execution_count": 116,
   "metadata": {},
   "outputs": [
    {
     "name": "stdout",
     "output_type": "stream",
     "text": [
      "+-------+-------+-------+-------------------+-----------------+----------------+------+\n",
      "|item_id|user_id|     mu|                 bu|               bi|        bui_base|rating|\n",
      "+-------+-------+-------+-------------------+-----------------+----------------+------+\n",
      "|    135|    758|3.52986|0.33743863760217984|0.328434813076320|4.19573345067850|     5|\n",
      "+-------+-------+-------+-------------------+-----------------+----------------+------+\n",
      "\n"
     ]
    }
   ],
   "source": [
    "bui_cross.where(\"user_id = 758 and item_id = 135\").show(4)"
   ]
  },
  {
   "cell_type": "code",
   "execution_count": 117,
   "metadata": {},
   "outputs": [
    {
     "name": "stdout",
     "output_type": "stream",
     "text": [
      "+-------+-------------------+\n",
      "|user_id|                 bu|\n",
      "+-------+-------------------+\n",
      "|    758|0.33743863760217984|\n",
      "+-------+-------------------+\n",
      "\n"
     ]
    }
   ],
   "source": [
    "user_bu.where(\"user_id = 758\").show()"
   ]
  },
  {
   "cell_type": "code",
   "execution_count": 118,
   "metadata": {},
   "outputs": [
    {
     "name": "stdout",
     "output_type": "stream",
     "text": [
      "+-------+-----------------+\n",
      "|item_id|               bi|\n",
      "+-------+-----------------+\n",
      "|    135|0.328434813076320|\n",
      "+-------+-----------------+\n",
      "\n"
     ]
    }
   ],
   "source": [
    "item_bi.where(\"item_id = 135\").show()"
   ]
  },
  {
   "cell_type": "code",
   "execution_count": 119,
   "metadata": {},
   "outputs": [
    {
     "data": {
      "text/plain": [
       "4.1957334506785"
      ]
     },
     "execution_count": 119,
     "metadata": {},
     "output_type": "execute_result"
    }
   ],
   "source": [
    "(3.52986+0.33743863760217984+0.328434813076320)"
   ]
  },
  {
   "cell_type": "code",
   "execution_count": 121,
   "metadata": {},
   "outputs": [
    {
     "name": "stdout",
     "output_type": "stream",
     "text": [
      "root\n",
      " |-- item_id: integer (nullable = true)\n",
      " |-- user_id: integer (nullable = true)\n",
      " |-- mu: decimal(6,5) (nullable = false)\n",
      " |-- bu: decimal(38,17) (nullable = true)\n",
      " |-- bi: decimal(38,15) (nullable = true)\n",
      " |-- bui_base: decimal(38,14) (nullable = true)\n",
      " |-- rating: integer (nullable = false)\n",
      "\n"
     ]
    }
   ],
   "source": [
    "bui_cross.printSchema()"
   ]
  },
  {
   "cell_type": "markdown",
   "metadata": {},
   "source": [
    "# Часть 4. Item-item CF:"
   ]
  },
  {
   "cell_type": "markdown",
   "metadata": {},
   "source": [
    "Создадим клона нашей таблицы, так как сама с собой в spark не работала"
   ]
  },
  {
   "cell_type": "code",
   "execution_count": 122,
   "metadata": {},
   "outputs": [],
   "source": [
    "query66_clon = \"\"\"\n",
    "SELECT item_id as item_i,\n",
    "       user_id as user_i,\n",
    "       mu as mu_i,\n",
    "       bu as bu_i,\n",
    "       bi as bi_i,\n",
    "       bui_base as bui_base_i,\n",
    "       rating as rating_i\n",
    "FROM   bui_table b\n",
    "\"\"\"       "
   ]
  },
  {
   "cell_type": "code",
   "execution_count": 130,
   "metadata": {},
   "outputs": [],
   "source": [
    "bui_i = spark.sql(query66_clon).repartition(4).cache()"
   ]
  },
  {
   "cell_type": "code",
   "execution_count": 131,
   "metadata": {},
   "outputs": [],
   "source": [
    "bui_i.registerTempTable(\"bui_i_table\")"
   ]
  },
  {
   "cell_type": "markdown",
   "metadata": {},
   "source": [
    "2. Найдите попарные меры близости (косинус) для всех фильмов, используя очищенные оценки из пункта 4.1. Суммирование идет по всем пользователям. \n",
    "\n",
    "Считаем знаменатель. По всем пользователям, которые поставили рейтинг данному фильму!"
   ]
  },
  {
   "cell_type": "code",
   "execution_count": 153,
   "metadata": {},
   "outputs": [],
   "source": [
    "query_norm = \"\"\"\n",
    "SELECT b.item_id,\n",
    "       sqrt(sum((b.rating-b.bui_base)*(b.rating-b.bui_base))) as norm\n",
    "FROM   bui_table b\n",
    "where  b.rating <> 0\n",
    "group by b.item_id\n",
    "\"\"\"       "
   ]
  },
  {
   "cell_type": "code",
   "execution_count": 154,
   "metadata": {},
   "outputs": [],
   "source": [
    "item_norm = spark.sql(query_norm).repartition(4).cache()"
   ]
  },
  {
   "cell_type": "code",
   "execution_count": 155,
   "metadata": {},
   "outputs": [
    {
     "name": "stdout",
     "output_type": "stream",
     "text": [
      "+-------+-----------------+\n",
      "|item_id|             norm|\n",
      "+-------+-----------------+\n",
      "|      1|17.95777926136748|\n",
      "+-------+-----------------+\n",
      "\n"
     ]
    }
   ],
   "source": [
    "item_norm.where(\"item_id = 1\")\\\n",
    "    .show()"
   ]
  },
  {
   "cell_type": "code",
   "execution_count": 126,
   "metadata": {},
   "outputs": [
    {
     "data": {
      "text/plain": [
       "1682"
      ]
     },
     "execution_count": 126,
     "metadata": {},
     "output_type": "execute_result"
    }
   ],
   "source": [
    "item_norm.count()"
   ]
  },
  {
   "cell_type": "code",
   "execution_count": 127,
   "metadata": {},
   "outputs": [],
   "source": [
    "item_norm.registerTempTable(\"item_norm\")"
   ]
  },
  {
   "cell_type": "markdown",
   "metadata": {},
   "source": [
    "1. Вычесть из всех рейтингов rui базовый предиктор bui из пункта 3.4 (для всей таблицы рейтингов). Считаем числитель по пользователям, которые оценили оба сравниваемых фильма. Т.е. числитель считается по пересечению множества пользователей у данного фильма.\n",
    "2. Найдите попарные меры близости (косинус) для всех фильмов, используя очищенные оценки из пункта 4.1. Суммирование идет по всем пользователям (для знаменателя - норма по всем оценкам пользователей, оценившии фильм i). \n",
    "\n",
    "Мера близости считается между фильмами, по которым есть пользовательская оценка. "
   ]
  },
  {
   "cell_type": "code",
   "execution_count": 156,
   "metadata": {},
   "outputs": [],
   "source": [
    "query66 = \"\"\"\n",
    "SELECT b.item_id as item_i, bb.item_i as item_j,\n",
    "       sum((b.rating - b.bui_base)*(bb.rating_i - bb.bui_base_i))/\n",
    "       (min(in1.norm)*min(in2.norm)) as sij,\n",
    "       min(in1.norm) as norm_i, min(in2.norm) as norm_j\n",
    "FROM   bui_table b join item_norm in1 on in1.item_id = b.item_id\n",
    "join   bui_i_table bb on b.user_id = bb.user_i\n",
    "join   item_norm in2 on in2.item_id = bb.item_i\n",
    "where  b.rating <> 0\n",
    "and    bb.rating_i <> 0\n",
    "group by b.item_id, bb.item_i\n",
    "\"\"\"       "
   ]
  },
  {
   "cell_type": "code",
   "execution_count": 157,
   "metadata": {},
   "outputs": [],
   "source": [
    "sij_proba = spark.sql(query66).repartition(4).cache()"
   ]
  },
  {
   "cell_type": "code",
   "execution_count": 158,
   "metadata": {},
   "outputs": [
    {
     "data": {
      "text/plain": [
       "1682"
      ]
     },
     "execution_count": 158,
     "metadata": {},
     "output_type": "execute_result"
    }
   ],
   "source": [
    "sij_proba.select('item_i').distinct().count()"
   ]
  },
  {
   "cell_type": "code",
   "execution_count": 159,
   "metadata": {},
   "outputs": [
    {
     "name": "stdout",
     "output_type": "stream",
     "text": [
      "+------+------+------------------+-----------------+-----------------+\n",
      "|item_i|item_j|               sij|           norm_i|           norm_j|\n",
      "+------+------+------------------+-----------------+-----------------+\n",
      "|     1|   404|0.0259744361002555|17.95777926136748|8.315947330280537|\n",
      "+------+------+------------------+-----------------+-----------------+\n",
      "\n"
     ]
    }
   ],
   "source": [
    "sij_proba.where(\"item_i =1 and item_j = 404 \").show()"
   ]
  },
  {
   "cell_type": "code",
   "execution_count": 160,
   "metadata": {},
   "outputs": [],
   "source": [
    "sij_proba.registerTempTable(\"sij_table\") "
   ]
  },
  {
   "cell_type": "markdown",
   "metadata": {},
   "source": [
    "3. Для каждого фильма, по которому у данного пользователя не стоит рейтинг, найдите:"
   ]
  },
  {
   "cell_type": "markdown",
   "metadata": {},
   "source": [
    "- [a] 30 ближайших фильмов-соседей для этого фильма (среди всех фильмов, а не фильмов, оценённых пользователем)."
   ]
  },
  {
   "cell_type": "markdown",
   "metadata": {},
   "source": [
    "item_i - это фильмы, оценку которых мы будем предсказать\n",
    "\n",
    "item_j - фильм-сосед, не зависит оценил ли наш пользователь его или нет\n",
    "\n",
    "rank - по убывания меры близости\n",
    "\n",
    "rank_pos - по возрастанию меры близости (отрицательные будут выше)"
   ]
  },
  {
   "cell_type": "code",
   "execution_count": 141,
   "metadata": {},
   "outputs": [],
   "source": [
    "query7 = \"\"\"\n",
    "SELECT sij.item_i, sij.item_j, sij.sij,\n",
    "       ROW_NUMBER() OVER (PARTITION BY sij.item_i ORDER BY sij.sij DESC, sij.item_j ASC) rank,\n",
    "       ROW_NUMBER() OVER (PARTITION BY sij.item_i ORDER BY sij.sij, sij.item_j ASC) rank_pos\n",
    "FROM   sij_table sij\n",
    "where  not exists (select item_id from item_758_table ip where ip.item_id = sij.item_i)\n",
    "and    sij.item_i<>sij.item_j\n",
    "\"\"\"       "
   ]
  },
  {
   "cell_type": "code",
   "execution_count": 142,
   "metadata": {},
   "outputs": [],
   "source": [
    "neib_item = spark.sql(query7).repartition(4).cache()"
   ]
  },
  {
   "cell_type": "code",
   "execution_count": 143,
   "metadata": {},
   "outputs": [],
   "source": [
    "neib_item.registerTempTable(\"neib_item_table\") "
   ]
  },
  {
   "cell_type": "code",
   "execution_count": 144,
   "metadata": {},
   "outputs": [
    {
     "data": {
      "text/plain": [
       "1593"
      ]
     },
     "execution_count": 144,
     "metadata": {},
     "output_type": "execute_result"
    }
   ],
   "source": [
    "neib_item.where(\"item_i = 1\").count()"
   ]
  },
  {
   "cell_type": "code",
   "execution_count": 145,
   "metadata": {},
   "outputs": [
    {
     "name": "stdout",
     "output_type": "stream",
     "text": [
      "+------+------+-------------------+----+--------+\n",
      "|item_i|item_j|                sij|rank|rank_pos|\n",
      "+------+------+-------------------+----+--------+\n",
      "|   814|   857|-1.0000094294401458| 635|       1|\n",
      "|   857|   814|-1.0000094294401458| 635|       1|\n",
      "|  1666|  1668|-1.0000074318388779| 230|       2|\n",
      "|  1666|  1667|-1.0000074318388779| 229|       1|\n",
      "|  1668|  1669|-1.0000074318388779| 231|       4|\n",
      "|  1665|  1667|-1.0000074318388779| 229|       1|\n",
      "|  1669|  1668|-1.0000074318388779| 230|       2|\n",
      "|  1670|  1663|-1.0000074318388779| 228|       1|\n",
      "|  1667|  1666|-1.0000074318388779| 230|       3|\n",
      "|  1665|  1670|-1.0000074318388779| 231|       3|\n",
      "+------+------+-------------------+----+--------+\n",
      "only showing top 10 rows\n",
      "\n"
     ]
    }
   ],
   "source": [
    "neib_item.orderBy(f.asc(\"sij\")).show(10)"
   ]
  },
  {
   "cell_type": "code",
   "execution_count": 334,
   "metadata": {},
   "outputs": [
    {
     "name": "stdout",
     "output_type": "stream",
     "text": [
      "root\n",
      " |-- item_i: integer (nullable = true)\n",
      " |-- item_j: integer (nullable = true)\n",
      " |-- sij: double (nullable = true)\n",
      " |-- rank: integer (nullable = true)\n",
      "\n"
     ]
    }
   ],
   "source": [
    "neib_item.printSchema()"
   ]
  },
  {
   "cell_type": "code",
   "execution_count": 146,
   "metadata": {},
   "outputs": [],
   "source": [
    "neib_item_distinct = neib_item[[\"item_i\"]].distinct() "
   ]
  },
  {
   "cell_type": "code",
   "execution_count": 147,
   "metadata": {},
   "outputs": [
    {
     "data": {
      "text/plain": [
       "1682"
      ]
     },
     "execution_count": 147,
     "metadata": {},
     "output_type": "execute_result"
    }
   ],
   "source": [
    "neib_item_distinct.count()+item_758.count()"
   ]
  },
  {
   "cell_type": "markdown",
   "metadata": {},
   "source": [
    "[b] прогноз оценки пользователя по формуле (базовый предиктор из пункта 4, часть 3). \n",
    "Здесь S(i)- множество фильмов-соседей для фильма i, по которым у данного пользователя есть оценка."
   ]
  },
  {
   "cell_type": "markdown",
   "metadata": {},
   "source": [
    "Самые близкие соседи - самая высокая мера близости, топ 30"
   ]
  },
  {
   "cell_type": "code",
   "execution_count": 148,
   "metadata": {},
   "outputs": [],
   "source": [
    "query77 = \"\"\"\n",
    "SELECT t.item_i, t.item_j, t.sij, t.rank\n",
    "FROM   neib_item_table t\n",
    "where  t.rank < 31\n",
    "order  by 1, 3 desc, 2\n",
    "\"\"\"       "
   ]
  },
  {
   "cell_type": "code",
   "execution_count": 162,
   "metadata": {},
   "outputs": [],
   "source": [
    "neib_item_30 = spark.sql(query77).repartition(4).cache()"
   ]
  },
  {
   "cell_type": "code",
   "execution_count": 205,
   "metadata": {},
   "outputs": [
    {
     "name": "stdout",
     "output_type": "stream",
     "text": [
      "+------+------+--------------------+----+\n",
      "|item_i|item_j|                 sij|rank|\n",
      "+------+------+--------------------+----+\n",
      "|  1653|   242|-0.00631707020451...|  21|\n",
      "|  1653|  1007|-0.00870405330101...|  22|\n",
      "|  1653|   258|-0.04182908819864019|  23|\n",
      "+------+------+--------------------+----+\n",
      "only showing top 3 rows\n",
      "\n"
     ]
    }
   ],
   "source": [
    "neib_item_30.where(\"sij< 0\").orderBy(\"rank\").show(3)"
   ]
  },
  {
   "cell_type": "code",
   "execution_count": 151,
   "metadata": {},
   "outputs": [],
   "source": [
    "neib_item_30.registerTempTable(\"neib_item30_table\") "
   ]
  },
  {
   "cell_type": "code",
   "execution_count": 338,
   "metadata": {},
   "outputs": [
    {
     "name": "stdout",
     "output_type": "stream",
     "text": [
      "root\n",
      " |-- item_id: integer (nullable = true)\n",
      " |-- user_id: integer (nullable = true)\n",
      " |-- mu: decimal(6,5) (nullable = false)\n",
      " |-- bu: decimal(38,17) (nullable = true)\n",
      " |-- bi: decimal(38,15) (nullable = true)\n",
      " |-- bui_base: decimal(38,14) (nullable = true)\n",
      " |-- rating: integer (nullable = false)\n",
      "\n"
     ]
    }
   ],
   "source": [
    "bui_cross.printSchema()"
   ]
  },
  {
   "cell_type": "code",
   "execution_count": 164,
   "metadata": {},
   "outputs": [
    {
     "name": "stdout",
     "output_type": "stream",
     "text": [
      "+-------+-------+-------+-------------------+------------------+----------------+------+\n",
      "|item_id|user_id|     mu|                 bu|                bi|        bui_base|rating|\n",
      "+-------+-------+-------+-------------------+------------------+----------------+------+\n",
      "|   1265|    758|3.52986|0.33743863760217984|-0.133829052253318|3.73346958534886|     0|\n",
      "|    939|    758|3.52986|0.33743863760217984| 0.059006633437362|3.92630527103954|     0|\n",
      "|     81|    758|3.52986|0.33743863760217984|-0.000435142700680|3.86686349490150|     5|\n",
      "|    460|    758|3.52986|0.33743863760217984|-0.201399487439182|3.66589915016300|     0|\n",
      "|     22|    758|3.52986|0.33743863760217984| 0.516160817694467|4.38345945529665|     0|\n",
      "|    209|    758|3.52986|0.33743863760217984| 0.273243894625916|4.14054253222810|     5|\n",
      "|    995|    758|3.52986|0.33743863760217984|-0.109153437387883|3.75814520021430|     0|\n",
      "|    372|    758|3.52986|0.33743863760217984|-0.001779340693821|3.86551929690836|     0|\n",
      "|   1586|    758|3.52986|0.33743863760217984|-0.032967696426733|3.83433094117545|     0|\n",
      "|    694|    758|3.52986|0.33743863760217984| 0.281682262013231|4.14898089961541|     0|\n",
      "|    882|    758|3.52986|0.33743863760217984| 0.009630869689916|3.87692950729210|     0|\n",
      "|    212|    758|3.52986|0.33743863760217984|-0.089587458437394|3.77771117916479|     4|\n",
      "|   1546|    758|3.52986|0.33743863760217984|-0.032967696426733|3.83433094117545|     0|\n",
      "|    715|    758|3.52986|0.33743863760217984|-0.160096095086745|3.70720254251543|     4|\n",
      "|   1380|    758|3.52986|0.33743863760217984|-0.114148365936644|3.75315027166554|     0|\n",
      "|   1026|    758|3.52986|0.33743863760217984|-0.054876164133913|3.81242247346827|     0|\n",
      "|    868|    758|3.52986|0.33743863760217984| 0.077010900454810|3.94430953805699|     0|\n",
      "|    840|    758|3.52986|0.33743863760217984|-0.398585475523108|3.46871316207907|     0|\n",
      "|    836|    758|3.52986|0.33743863760217984| 0.035245482983863|3.90254412058604|     0|\n",
      "|     92|    758|3.52986|0.33743863760217984| 0.066466118114940|3.93376475571712|     0|\n",
      "+-------+-------+-------+-------------------+------------------+----------------+------+\n",
      "only showing top 20 rows\n",
      "\n"
     ]
    }
   ],
   "source": [
    "bui_cross.where(\"user_id = 758\").show()"
   ]
  },
  {
   "cell_type": "markdown",
   "metadata": {},
   "source": [
    "- [b] прогноз оценки пользователя по формуле (базовый предиктор из пункта 3.4 - берется для предсказывающего фильма + пользователя). Здесь S(i)- множество фильмов-соседей для фильма i, по которым у данного пользователя есть оценка."
   ]
  },
  {
   "cell_type": "code",
   "execution_count": 167,
   "metadata": {},
   "outputs": [],
   "source": [
    "query888 = \"\"\"\n",
    "SELECT i.item_i,\n",
    "       bi.bui_base + sum(i.sij*(bj.rating_i - bj.bui_base_i))/sum(abs(i.sij)) as rating_new\n",
    "FROM   neib_item30_table i \n",
    "join   bui_table bi on bi.item_id = i.item_i and bi.user_id = 758\n",
    "join   bui_i_table bj on bj.item_i = i.item_j and bj.user_i = 758 and bj.rating_i <> 0\n",
    "group  by i.item_i, bi.bui_base\n",
    "\"\"\"       "
   ]
  },
  {
   "cell_type": "markdown",
   "metadata": {},
   "source": [
    "5. При подсчете прогноза по формуле из пункта 4.3 отфильтруйте всех соседей с отрицательной близостью. Т.е. возьмем только положительную меру близости, откиним фильмы с противоположным отношением."
   ]
  },
  {
   "cell_type": "code",
   "execution_count": 199,
   "metadata": {},
   "outputs": [],
   "source": [
    "query888_pos = \"\"\"\n",
    "SELECT i.item_i,\n",
    "       bi.bui_base + sum(i.sij*(bj.rating_i - bj.bui_base_i))/sum(abs(i.sij)) as rating_new\n",
    "FROM   neib_item30_table i \n",
    "join   bui_table bi on bi.item_id = i.item_i and bi.user_id = 758\n",
    "join   bui_i_table bj on bj.item_i = i.item_j and bj.user_i = 758 and bj.rating_i <> 0\n",
    "where  i.sij > 0\n",
    "group  by i.item_i, bi.bui_base\n",
    "\"\"\"       "
   ]
  },
  {
   "cell_type": "code",
   "execution_count": 248,
   "metadata": {},
   "outputs": [
    {
     "data": {
      "text/plain": [
       "30"
      ]
     },
     "execution_count": 248,
     "metadata": {},
     "output_type": "execute_result"
    }
   ],
   "source": [
    "neib_item_30.where(\"item_i = 22\").count()"
   ]
  },
  {
   "cell_type": "code",
   "execution_count": 168,
   "metadata": {},
   "outputs": [],
   "source": [
    "neib_item30_predict = spark.sql(query888).repartition(4).cache()"
   ]
  },
  {
   "cell_type": "code",
   "execution_count": 169,
   "metadata": {},
   "outputs": [
    {
     "name": "stdout",
     "output_type": "stream",
     "text": [
      "+------+-----+\n",
      "|item_i|count|\n",
      "+------+-----+\n",
      "|   463|    1|\n",
      "|  1591|    1|\n",
      "|   833|    1|\n",
      "+------+-----+\n",
      "only showing top 3 rows\n",
      "\n"
     ]
    }
   ],
   "source": [
    "neib_item30_predict.groupBy(\"item_i\").count().show(3)"
   ]
  },
  {
   "cell_type": "code",
   "execution_count": 200,
   "metadata": {},
   "outputs": [],
   "source": [
    "neib_item30_predict_pos = spark.sql(query888_pos).repartition(4).cache()"
   ]
  },
  {
   "cell_type": "code",
   "execution_count": 201,
   "metadata": {},
   "outputs": [
    {
     "data": {
      "text/plain": [
       "1024"
      ]
     },
     "execution_count": 201,
     "metadata": {},
     "output_type": "execute_result"
    }
   ],
   "source": [
    "neib_item30_predict_pos.count()"
   ]
  },
  {
   "cell_type": "code",
   "execution_count": 206,
   "metadata": {},
   "outputs": [
    {
     "name": "stdout",
     "output_type": "stream",
     "text": [
      "+------+-----------------+\n",
      "|item_i|       rating_new|\n",
      "+------+-----------------+\n",
      "|  1416|5.396102257568391|\n",
      "|   360| 5.27863280760301|\n",
      "|  1018| 5.24635181221795|\n",
      "|   989| 5.24579614449314|\n",
      "|  1121| 5.10301310973268|\n",
      "|   190| 5.08969199267952|\n",
      "|  1011| 5.08087777501547|\n",
      "|  1097| 5.04777486875467|\n",
      "|   878|  5.0376502268368|\n",
      "|  1456| 5.02231890348717|\n",
      "+------+-----------------+\n",
      "only showing top 10 rows\n",
      "\n"
     ]
    }
   ],
   "source": [
    "neib_item30_predict_pos.orderBy(f.desc(\"rating_new\")).show(10)"
   ]
  },
  {
   "cell_type": "code",
   "execution_count": 207,
   "metadata": {},
   "outputs": [
    {
     "name": "stdout",
     "output_type": "stream",
     "text": [
      "+------+-----------------+\n",
      "|item_i|       rating_new|\n",
      "+------+-----------------+\n",
      "|  1416|5.396102257568391|\n",
      "|   360| 5.27863280760301|\n",
      "|  1018| 5.24635181221795|\n",
      "|   989| 5.24579614449314|\n",
      "|  1121| 5.10301310973268|\n",
      "|   190| 5.08969199267952|\n",
      "|  1011| 5.08087777501547|\n",
      "|  1097| 5.04777486875467|\n",
      "|   878|  5.0376502268368|\n",
      "|  1456| 5.02231890348717|\n",
      "+------+-----------------+\n",
      "only showing top 10 rows\n",
      "\n"
     ]
    }
   ],
   "source": [
    "neib_item30_predict_pos.orderBy(f.desc(\"rating_new\")).show(10)"
   ]
  },
  {
   "cell_type": "code",
   "execution_count": 171,
   "metadata": {},
   "outputs": [],
   "source": [
    "predicators_top10 = [x['item_i'] for x in neib_item30_predict.orderBy(f.desc(\"rating_new\")).take(10)]"
   ]
  },
  {
   "cell_type": "code",
   "execution_count": 172,
   "metadata": {},
   "outputs": [
    {
     "data": {
      "text/plain": [
       "[1416, 360, 1018, 989, 1121, 190, 1011, 1097, 878, 1456]"
      ]
     },
     "execution_count": 172,
     "metadata": {},
     "output_type": "execute_result"
    }
   ],
   "source": [
    "predicators_top10"
   ]
  },
  {
   "cell_type": "code",
   "execution_count": 202,
   "metadata": {},
   "outputs": [],
   "source": [
    "predicators_positive_top10 = [x['item_i'] for x in neib_item30_predict_pos.orderBy(f.desc(\"rating_new\")).take(10)]"
   ]
  },
  {
   "cell_type": "code",
   "execution_count": 208,
   "metadata": {},
   "outputs": [
    {
     "data": {
      "text/plain": [
       "[1416, 360, 1018, 989, 1121, 190, 1011, 1097, 878, 1456]"
      ]
     },
     "execution_count": 208,
     "metadata": {},
     "output_type": "execute_result"
    }
   ],
   "source": [
    "predicators_positive_top10"
   ]
  },
  {
   "cell_type": "markdown",
   "metadata": {},
   "source": [
    "# Результат"
   ]
  },
  {
   "cell_type": "code",
   "execution_count": 203,
   "metadata": {},
   "outputs": [],
   "source": [
    "dict_out_new = {\n",
    "              \"average_rating\": 3.5299,\n",
    "              \"predicators_positive_top10\": predicators_positive_top10,\n",
    "              \"predicators_top10\": predicators_top10\n",
    "             }"
   ]
  },
  {
   "cell_type": "code",
   "execution_count": 204,
   "metadata": {},
   "outputs": [],
   "source": [
    "import json\n",
    "with open('lab08s.json', 'w') as fout:\n",
    "    fout.write(json.dumps(dict_out_new))"
   ]
  },
  {
   "cell_type": "code",
   "execution_count": null,
   "metadata": {},
   "outputs": [],
   "source": []
  },
  {
   "cell_type": "code",
   "execution_count": 209,
   "metadata": {},
   "outputs": [],
   "source": [
    "spark.stop()"
   ]
  },
  {
   "cell_type": "code",
   "execution_count": null,
   "metadata": {},
   "outputs": [],
   "source": []
  }
 ],
 "metadata": {
  "kernelspec": {
   "display_name": "Python 3",
   "language": "python",
   "name": "python3"
  },
  "language_info": {
   "codemirror_mode": {
    "name": "ipython",
    "version": 3
   },
   "file_extension": ".py",
   "mimetype": "text/x-python",
   "name": "python",
   "nbconvert_exporter": "python",
   "pygments_lexer": "ipython3",
   "version": "3.6.5"
  }
 },
 "nbformat": 4,
 "nbformat_minor": 2
}
