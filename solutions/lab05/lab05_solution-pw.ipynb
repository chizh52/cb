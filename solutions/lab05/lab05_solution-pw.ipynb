{
 "cells": [
  {
   "cell_type": "markdown",
   "metadata": {},
   "source": [
    "# Лаба 5: Определение принадлежности текстов к заданной тематике"
   ]
  },
  {
   "cell_type": "code",
   "execution_count": 1,
   "metadata": {},
   "outputs": [],
   "source": [
    "import numpy as np\n",
    "\n",
    "from bs4 import BeautifulSoup\n",
    "\n",
    "from sklearn.feature_extraction.text import TfidfVectorizer\n",
    "\n",
    "%matplotlib inline\n",
    "from matplotlib import pyplot as plt\n",
    "import seaborn"
   ]
  },
  {
   "cell_type": "code",
   "execution_count": 2,
   "metadata": {},
   "outputs": [],
   "source": [
    "from pymystem3 import Mystem\n",
    "m = Mystem()\n",
    "\n",
    "from nltk.tokenize import RegexpTokenizer\n",
    "tokenizer = RegexpTokenizer('[A-Za-zА-Яа-яёЁ]+')"
   ]
  },
  {
   "cell_type": "code",
   "execution_count": 3,
   "metadata": {},
   "outputs": [],
   "source": [
    "#attention - generator\n",
    "def tokenize(text):\n",
    "    tokens = tokenizer.tokenize(text)\n",
    "    for i in tokens:\n",
    "        if len(i)>2:\n",
    "            yield m.lemmatize(i)[0]"
   ]
  },
  {
   "cell_type": "markdown",
   "metadata": {},
   "source": [
    "### Данные из ЛК"
   ]
  },
  {
   "cell_type": "code",
   "execution_count": 4,
   "metadata": {},
   "outputs": [],
   "source": [
    "#ids of texts you need to classify\n",
    "ids=[514, 3489, 9, 2570, 3084, 3086, 1040, 1113, 3603, 2582, 1559, 2591, 2081, 2602, 1281, 1289, 1076, 569, 2618, 572, 2622, 1599, 2100, 579, 581, 586, 1720, 78, 1616, 3665, 174, 85, 598, 599, 89, 1626, 2139, 3600, 2144, 1121, 1123, 2374, 2066, 3178, 1131, 2067, 624, 3433, 1139, 1658, 1659, 2173, 1151, 1664, 3719, 2696, 2185, 1932, 3214, 656, 1174, 3224, 665, 1691, 160, 161, 3041, 3239, 1704, 683, 1651, 1200, 2225, 2232, 695, 3256, 698, 1211, 1215, 1728, 3268, 2758, 3783, 715, 1230, 1232, 2258, 1806, 219, 1244, 1757, 808, 1262, 2799, 3824, 60, 1779, 1441, 1270, 1697, 257, 3332, 1798, 775, 2313, 1294, 273, 275, 2324, 3349, 3352, 1331, 1831, 3368, 3293, 307, 2864, 2353, 2579, 3892, 2869, 2362, 2876, 1343, 3904, 322, 836, 2885, 3398, 3913, 1355, 3405, 1360, 2386, 3925, 2902, 3415, 857, 347, 144, 2806, 3940, 999, 402, 2921, 1909, 1911, 377, 1406, 1407, 384, 2950, 903, 1928, 3468, 910, 1423, 3472, 2450, 406, 409, 2973, 2462, 1439, 2464, 2977, 2896, 1956, 1961, 1437, 427, 429, 1524, 950, 958, 758, 3233, 3524, 3013, 2504, 3530, 3020, 464, 2517, 3030, 3545, 336, 989, 3550, 479, 1951, 482, 2535, 2538, 1501, 3570, 2036, 887, 1016, 2200]\n",
    "\n",
    "texts_index = list(zip(range(200), ids))"
   ]
  },
  {
   "cell_type": "code",
   "execution_count": 5,
   "metadata": {},
   "outputs": [
    {
     "data": {
      "text/plain": [
       "(200, 200)"
      ]
     },
     "execution_count": 5,
     "metadata": {},
     "output_type": "execute_result"
    }
   ],
   "source": [
    "len(ids), len(texts_index)"
   ]
  },
  {
   "cell_type": "markdown",
   "metadata": {},
   "source": [
    "### Данные тексты"
   ]
  },
  {
   "cell_type": "code",
   "execution_count": 6,
   "metadata": {},
   "outputs": [
    {
     "data": {
      "text/plain": [
       "20"
      ]
     },
     "execution_count": 6,
     "metadata": {},
     "output_type": "execute_result"
    }
   ],
   "source": [
    "texts = []\n",
    "for i in range(1,21):\n",
    "    #f = codecs.open('/data/lab05data/data/base_'+str(i)+'.txt', 'r', 'utf-8')\n",
    "    f = open('/data/share/lab05data/base_'+str(i)+'.txt', 'r', encoding='utf-8')\n",
    "    text = f.readlines()\n",
    "    texts.append(BeautifulSoup(text[0], \"lxml\").text.lower())\n",
    "len(texts)"
   ]
  },
  {
   "cell_type": "code",
   "execution_count": 7,
   "metadata": {},
   "outputs": [
    {
     "data": {
      "text/plain": [
       "220"
      ]
     },
     "execution_count": 7,
     "metadata": {},
     "output_type": "execute_result"
    }
   ],
   "source": [
    "for i in ids:\n",
    "    #f = codecs.open('/data/lab05data/data/test_'+str(i)+'.txt', 'r', 'utf-8')\n",
    "    f = open('/data/share/lab05data/test_'+str(i)+'.txt', 'r', encoding='utf-8')\n",
    "    text = f.readlines()\n",
    "    texts.append(BeautifulSoup(text[0], \"lxml\").text.lower())\n",
    "len(texts)"
   ]
  },
  {
   "cell_type": "code",
   "execution_count": 8,
   "metadata": {
    "scrolled": true
   },
   "outputs": [
    {
     "name": "stdout",
     "output_type": "stream",
     "text": [
      "ищем прекрасного программиста 1с в дружный отдел сотрудников сферы it с неутомительным режимом работы. у нас есть 1с 8.2, 8.3, бухгалтерия строительной организации, жкх, зуп + самописные. что надо делать: - доработать существующие конфигурации,- разработать новые конфигураций,- отчеты, базы данных...- осуществлять поддержку наших продвинутых пользователей режим работы с 10 до 18 по вторникам и пятницам (строго!).  \n",
      "предлагаем уникальную возможность присоединиться к команде, разрабатывающей и выпускающей следующее поколение корпоративных антивирусных продуктов. вам будет отведена важная роль в разработке как основного продукта так и смежных инфраструктурных проектов и кастомизиций.   чем придется заниматься:   участие в разработке основной линейки антивирусных продуктов лаборатории касперского   работа в ключевой команде опытных разработчиков лк     что нужно знать и уметь:   отличное знание c# и .net framework.   отличное знание c++ и опыт практического использования (win32).   понимание парадигм ооп.   умение разбираться в чужом коде   технический английский   ответственность, исполнительность, инициативность, внимание к деталям.   умение самостоятельно и полностью доводить до конца поставленные задачи.     приветствуется:   опыт работы с tfs     условия:   белая заработная плата   трудоустройство по тк рф   отличная программа дмс  \n",
      "netcracker technology corp., a large software development company and one of the world’s most respected toms solutions (telecommunications operations and management solutions) companies, has an opening for:   technical managerresponsibilities:    managing a team of 3-8 or more developers; carrying out various development projects of the duration from 1 week up to several months through the full cycle starting from the requirements gathering and up to product implementation and documentation preparation; participating customer implementation projects; carrying out presales demonstration projects, resulting in presenting demonstrations basing on customer requirements.  qualification:  high technical degree; minimum of 3 years experience as a developer/lead developer; minimum of 2 years technical management experience; excellent knowledge of java, j2ee; very good technical english verbal/writing skills; successful experience in managing it projects; excellent communication and team building abilities; business-like presence and ability to interact professionally with customers; willingness to work as a lead java developer for the starting period; experience in working in telecommunications areas; excellent english language; ability to travel both within the country and abroad.  we offer:  opportunities for career development; opportunities to make business trips (europe, canada, usa, australia, etc); professional growth in the international business environment; medical insurance for employees; friendly atmosphere, sports activities and corporate events; salary will be discussed individually with the successful candidate. \n",
      "senior java software engineer в отдел разработки графических приложений netcracker technology   о компании: компания netcracker technology – мировой лидер в области создания и внедрения комплексных bss/oss-решений для провайдеров услуг связи, крупных предприятий и государственных учреждений. наши успехи в области предоставления решений и сервисов по управлению телекоммуникационными операциями признаны ведущими консалтинговыми компаниями и аналитическими агентствами, включая gartner, analysys mason и stratecast. вместе с тем, компания netcracker получила наивысшее признание от двух ведущих организаций по стандартизации в индустрии информационно-коммуникационных технологий - tm forum и университета carnegie mellon. благодаря обширным экспертным знаниям и многолетнему опыту разработки и внедрения решений netcracker предоставляет большие возможности для профессионального развития и карьерного роста.   об отделе: мы занимаемся разработкой пользовательских интерфейсов, в которых ключевым элементом является графическое представление данных и манипуляция с данными в графическом виде. иногда лучше увидеть 1 картинку, чем 100 таблиц. схемы топологии сети, представление данных в привязке к географической карте, визуализация телекоммуникационных ресурсов – вот лишь некоторые примеры приложений, которые мы разрабатываем. помимо разработки интерфейсов и рабочих мест, с которыми работают конечные пользователи нашей системы, мы также отвечаем за разработку и развитие платформы netcracker для построения графических приложений. на основе этой платформы строятся наши собственные приложения и приложения, разрабатываемые другими отделами разработки продукта для своих предметных областей, а также решения под конкретных заказчиков, разрабатываемые командами внедрений. мы уделяем большое внимание не только тому, что мы делаем, но и тому, как мы это делаем, активно применяя в своей работе такие практики разработки как unit testing, code review, continuous integration, pair programming. senior java software engineer: вам предстоит:  вместе с командой создавать новые и развивать существующие графические приложения в составе продукта netcracker; принимать непосредственное участие в создании и развитии графической платформы netcracker на базе gwt с использованием средств html5; вместе с командой принимать технические и архитектурные решения.    требования:  опыт промышленной разработки на платформе java- от 3х лет; хорошие знания java se; знание ооп; знание паттернов и анти-паттернов проектирования по; умение написания unit test’ов; ответственность, самостоятельность, организованность; умение работать в команде;  плюсами будут:  понимание основ построения пользовательских интерфейсов; знание и опыт работы с gwt, restful services; опыт разработки ria на любой платформе; знание и опыт работы с maven; опыт работы с di frameworks; опыт применения таких практик разработки как tdd, continuous integration, code review, pair programming; опыт работы по agile методологиям ведения проектов; знание java script; знакомство с html, css; опыт работы c html/js gis библиотеками; опыт работы с графическими библиотеками на базе html5; знание java ee;  условия:  место работы: нижний новгород, деловой центр \"ока\"; возможность для профессионального и карьерного роста в компании; медицинская страховка (включая стоматологию); спортивные и корпоративные мероприятия; дружный коллектив; заработная плата обсуждается по результатам интервью. \n",
      "netcracker technology corp., a large software development company and one of the world’s most respected toms solutions (telecommunications operations and management solutions) companies, has an opening for: software developer responsibilities:  writing code in java and sql; taking part in system design, creating specifications; taking part in internal, customer and pre-sales projects as a developer.  qualification:  high technical degree; minimum 2 years experience as a developer; minimum 1 year experience in java, j2ee technologies; experience in commercial projects; good technical english verbal/writing skills; good english skills is an advantage.   optional requirements:  experience in working in telecommunications areas; experience in working with oracle server (sql, pl-sql); experience in development of web-based systems.  we offer:  opportunities for career development; opportunities to make business trips (europe, canada, usa, australia, etc); professional growth in the international business environment;  medical insurance for employees; friendly atmosphere, sports activities and corporate events; salary will be discussed individually with the successful candidate. \n"
     ]
    }
   ],
   "source": [
    "print(\"\\n\".join(texts[:5]))"
   ]
  },
  {
   "cell_type": "markdown",
   "metadata": {},
   "source": [
    "### Попробуем собственный токенайзер"
   ]
  },
  {
   "cell_type": "code",
   "execution_count": 9,
   "metadata": {},
   "outputs": [],
   "source": [
    "from pymystem3 import Mystem\n",
    "m = Mystem()\n",
    "\n",
    "from nltk.tokenize import RegexpTokenizer\n",
    "tokenizer = RegexpTokenizer('[A-Za-zА-Яа-яёЁ]+')"
   ]
  },
  {
   "cell_type": "code",
   "execution_count": 10,
   "metadata": {},
   "outputs": [],
   "source": [
    "#attention - generator\n",
    "def tokenize(text):\n",
    "    tokens = tokenizer.tokenize(text)\n",
    "    for i in tokens:\n",
    "        if len(i)>2:\n",
    "            yield m.lemmatize(i)[0]"
   ]
  },
  {
   "cell_type": "code",
   "execution_count": 11,
   "metadata": {},
   "outputs": [],
   "source": [
    "stop_words = [\"еще\", \"него\", \"сказать\", \"а\", \"ж\", \"нее\", \"со\", \"без\", \"же\", \"ней\", \"совсем\", \"более\", \"жизнь\", \n",
    "              \"нельзя\", \"так\", \"больше\", \"за\", \"нет\", \"такой\", \"будет\", \"зачем\", \"ни\", \"там\", \"будто\", \"здесь\", \n",
    "              \"нибудь\", \"тебя\", \"бы\", \"и\", \"никогда\", \"тем\", \"был\", \"из\", \"ним\", \"теперь\", \"была\", \"из\", \"за\",\n",
    "              \"них\", \"то\", \"были\", \"или\", \"ничего\", \"тогда\", \"было\", \"им\", \"но\", \"того\", \"быть\", \"иногда\", \"ну\", \n",
    "              \"тоже\", \"в\", \"их\", \"о\", \"только\", \"вам\", \"к\", \"об\", \"том\", \"вас\", \"кажется\", \"один\", \"тот\", \"вдруг\",\n",
    "              \"как\", \"он\", \"три\", \"ведь\", \"какая\", \"она\", \"тут\", \"во\", \"какой\", \"они\", \"ты\", \"вот\", \"когда\", \"опять\",\n",
    "              \"у\", \"впрочем\", \"конечно\", \"от\", \"уж\", \"все\", \"которого\", \"перед\", \"уже\", \"всегда\", \"которые\", \"по\",\n",
    "              \"хорошо\", \"всего\", \"кто\", \"под\", \"хоть\", \"всех\", \"куда\", \"после\", \"чего\", \"всю\", \"ли\", \"потом\", \"человек\",\n",
    "              \"вы\", \"лучше\", \"потому\", \"чем\", \"г\", \"между\", \"почти\", \"через\", \"где\", \"меня\", \"при\", \"что\", \"говорил\",\n",
    "              \"мне\", \"про\", \"чтоб\", \"да\", \"много\", \"раз\", \"чтобы\", \"даже\", \"может\", \"разве\", \"чуть\", \"два\", \"можно\",\n",
    "              \"с\", \"эти\", \"для\", \"мой\", \"сам\", \"этого\", \"до\", \"моя\", \"свое\", \"этой\", \"другой\", \"мы\", \"свою\", \"этом\",\n",
    "              \"его\", \"на\", \"себе\", \"этот\", \"ее\", \"над\", \"себя\", \"эту\", \"ей\", \"надо\", \"сегодня\", \"я\", \"ему\", \"наконец\",\n",
    "              \"сейчас\", \"если\", \"нас\", \"сказал\", \"есть\", \"не\", \"сказала\"]"
   ]
  },
  {
   "cell_type": "markdown",
   "metadata": {},
   "source": [
    "### TFIDF для всех тесктов"
   ]
  },
  {
   "cell_type": "code",
   "execution_count": 12,
   "metadata": {
    "scrolled": true
   },
   "outputs": [],
   "source": [
    "tfidf_vec = TfidfVectorizer(norm=None, \n",
    "                            smooth_idf=False, \n",
    "                            token_pattern='[A-Za-zА-Яа-яёЁ]+', \n",
    "                            stop_words=stop_words)\n",
    "\n",
    "m_tfidf = tfidf_vec.fit_transform(texts)\n",
    "matrix_tfidf = m_tfidf.toarray()"
   ]
  },
  {
   "cell_type": "code",
   "execution_count": 13,
   "metadata": {
    "scrolled": true
   },
   "outputs": [
    {
     "data": {
      "text/plain": [
       "(220, 6541)"
      ]
     },
     "execution_count": 13,
     "metadata": {},
     "output_type": "execute_result"
    }
   ],
   "source": [
    "matrix_tfidf.shape"
   ]
  },
  {
   "cell_type": "code",
   "execution_count": 14,
   "metadata": {
    "scrolled": false
   },
   "outputs": [
    {
     "data": {
      "text/plain": [
       "array([[ 0.        ,  0.        ,  0.        , ...,  0.        ,\n",
       "         0.        ,  0.        ],\n",
       "       [ 0.        ,  0.        ,  0.        , ...,  0.        ,\n",
       "         0.        ,  0.        ],\n",
       "       [17.25674402,  6.39362755, 12.78725509, ...,  0.        ,\n",
       "         0.        ,  0.        ],\n",
       "       ...,\n",
       "       [ 0.        ,  0.        ,  0.        , ...,  0.        ,\n",
       "         0.        ,  0.        ],\n",
       "       [ 0.        ,  0.        ,  0.        , ...,  0.        ,\n",
       "         0.        ,  0.        ],\n",
       "       [ 0.        ,  0.        ,  0.        , ...,  0.        ,\n",
       "         0.        ,  0.        ]])"
      ]
     },
     "execution_count": 14,
     "metadata": {},
     "output_type": "execute_result"
    }
   ],
   "source": [
    "matrix_tfidf"
   ]
  },
  {
   "cell_type": "code",
   "execution_count": 15,
   "metadata": {},
   "outputs": [],
   "source": [
    "from sklearn.metrics.pairwise import pairwise_distances"
   ]
  },
  {
   "cell_type": "code",
   "execution_count": 16,
   "metadata": {
    "scrolled": true
   },
   "outputs": [
    {
     "name": "stdout",
     "output_type": "stream",
     "text": [
      "CPU times: user 1.09 s, sys: 188 ms, total: 1.28 s\n",
      "Wall time: 102 ms\n"
     ]
    }
   ],
   "source": [
    "%%time\n",
    "d = pairwise_distances(matrix_tfidf, metric='cosine')"
   ]
  },
  {
   "cell_type": "code",
   "execution_count": 17,
   "metadata": {
    "scrolled": true
   },
   "outputs": [
    {
     "data": {
      "text/plain": [
       "(220, 220)"
      ]
     },
     "execution_count": 17,
     "metadata": {},
     "output_type": "execute_result"
    }
   ],
   "source": [
    "d.shape"
   ]
  },
  {
   "cell_type": "markdown",
   "metadata": {},
   "source": [
    "\"Так как текстов заданной тематики несколько, результирующую метрику на неизвестный текст можно получить путем сложения косинусной меры этого текста со всеми эталонными текстами. При этом сумма косинусных мер может оказаться больше единицы.\""
   ]
  },
  {
   "cell_type": "code",
   "execution_count": 18,
   "metadata": {},
   "outputs": [],
   "source": [
    "d20 = 1 - abs(d[:20][:])"
   ]
  },
  {
   "cell_type": "code",
   "execution_count": 19,
   "metadata": {},
   "outputs": [
    {
     "data": {
      "text/plain": [
       "(20, 220)"
      ]
     },
     "execution_count": 19,
     "metadata": {},
     "output_type": "execute_result"
    }
   ],
   "source": [
    "d20.shape"
   ]
  },
  {
   "cell_type": "code",
   "execution_count": 20,
   "metadata": {},
   "outputs": [],
   "source": [
    "y=list(d20.sum(axis=0)[20:])"
   ]
  },
  {
   "cell_type": "code",
   "execution_count": 21,
   "metadata": {
    "scrolled": false
   },
   "outputs": [
    {
     "data": {
      "text/plain": [
       "[<matplotlib.lines.Line2D at 0x7f82c0ecff28>]"
      ]
     },
     "execution_count": 21,
     "metadata": {},
     "output_type": "execute_result"
    },
    {
     "data": {
      "image/png": "[encoded data removed]",
      "text/plain": [
       "<Figure size 432x288 with 1 Axes>"
      ]
     },
     "metadata": {},
     "output_type": "display_data"
    }
   ],
   "source": [
    "plt.plot(sorted(y))"
   ]
  },
  {
   "cell_type": "code",
   "execution_count": 22,
   "metadata": {},
   "outputs": [],
   "source": [
    "#С токенайзером"
   ]
  },
  {
   "cell_type": "code",
   "execution_count": 23,
   "metadata": {},
   "outputs": [],
   "source": [
    "tfidf_vec = TfidfVectorizer(norm=None, \n",
    "                            smooth_idf=False, \n",
    "                            tokenizer=tokenize, \n",
    "                            stop_words=stop_words)\n",
    "matrix_tfidf = tfidf_vec.fit_transform(texts).toarray()\n"
   ]
  },
  {
   "cell_type": "code",
   "execution_count": 24,
   "metadata": {},
   "outputs": [
    {
     "name": "stdout",
     "output_type": "stream",
     "text": [
      "CPU times: user 288 ms, sys: 124 ms, total: 412 ms\n",
      "Wall time: 17.5 ms\n"
     ]
    }
   ],
   "source": [
    "%%time\n",
    "d = pairwise_distances(matrix_tfidf, metric='cosine')"
   ]
  },
  {
   "cell_type": "code",
   "execution_count": 25,
   "metadata": {},
   "outputs": [],
   "source": [
    "d20 = 1 - abs(d[:20][:])\n",
    "y=list(d20.sum(axis=0)[20:])"
   ]
  },
  {
   "cell_type": "code",
   "execution_count": 26,
   "metadata": {
    "scrolled": false
   },
   "outputs": [
    {
     "data": {
      "text/plain": [
       "[<matplotlib.lines.Line2D at 0x7f82c0f96748>]"
      ]
     },
     "execution_count": 26,
     "metadata": {},
     "output_type": "execute_result"
    },
    {
     "data": {
      "image/png": "[encoded data removed]",
      "text/plain": [
       "<Figure size 432x288 with 1 Axes>"
      ]
     },
     "metadata": {},
     "output_type": "display_data"
    }
   ],
   "source": [
    "plt.plot(sorted(y))"
   ]
  },
  {
   "cell_type": "code",
   "execution_count": 27,
   "metadata": {},
   "outputs": [
    {
     "name": "stdout",
     "output_type": "stream",
     "text": [
      "200\n",
      "268.7062093672325\n",
      "(220, 3881)\n"
     ]
    }
   ],
   "source": [
    "print(len(y))\n",
    "print(sum(y))\n",
    "print(matrix_tfidf.shape)"
   ]
  },
  {
   "cell_type": "code",
   "execution_count": 28,
   "metadata": {},
   "outputs": [
    {
     "name": "stdout",
     "output_type": "stream",
     "text": [
      "1.3435310468361623\n"
     ]
    }
   ],
   "source": [
    "average = sum(y)/200\n",
    "print(average)"
   ]
  },
  {
   "cell_type": "code",
   "execution_count": 29,
   "metadata": {
    "scrolled": false
   },
   "outputs": [
    {
     "name": "stdout",
     "output_type": "stream",
     "text": [
      "{'defined': [514, 9, 2570, 3086, 1040, 1113, 3603, 2591, 2081, 2602, 1281, 1076, 569, 572, 2622, 78, 599, 89, 2139, 3600, 2144, 1121, 1123, 3433, 1139, 1658, 2173, 1664, 3719, 2185, 3214, 3224, 161, 3239, 1704, 683, 3256, 1211, 1215, 1728, 3268, 2758, 715, 2258, 219, 1244, 1757, 1262, 2799, 3824, 1779, 1270, 257, 3332, 775, 2313, 1294, 2324, 3349, 3368, 3293, 2864, 2353, 3892, 2869, 2362, 3904, 2885, 1355, 3405, 1360, 3415, 857, 347, 3940, 402, 2921, 1406, 2950, 1928, 3468, 1423, 3472, 2450, 2464, 2977, 2896, 427, 429, 958, 3524, 3013, 2504, 3020, 464, 2517, 3030, 336, 479, 2535], 'other': [3489, 3084, 2582, 1559, 1289, 2618, 1599, 2100, 579, 581, 586, 1720, 1616, 3665, 174, 85, 598, 1626, 2374, 2066, 3178, 1131, 2067, 624, 1659, 1151, 2696, 1932, 656, 1174, 665, 1691, 160, 3041, 1651, 1200, 2225, 2232, 695, 698, 3783, 1230, 1232, 1806, 808, 60, 1441, 1697, 1798, 273, 275, 3352, 1331, 1831, 307, 2579, 2876, 1343, 322, 836, 3398, 3913, 2386, 3925, 2902, 144, 2806, 999, 1659, 1911, 377, 1407, 384, 903, 910, 406, 409, 2973, 2462, 1439, 1956, 1961, 1437, 1524, 950, 758, 3233, 3530, 3545, 989, 3550, 1951, 482, 2538, 1501, 3570, 2036, 887, 1016, 2200]}\n"
     ]
    }
   ],
   "source": [
    "result = {\n",
    "    'defined': [],\n",
    "    'other': []\n",
    "}\n",
    "\n",
    "for i in y:\n",
    "    if i > average:\n",
    "        result['defined'].append(texts_index[y.index(i)][1])\n",
    "    else:\n",
    "        result['other'].append(texts_index[y.index(i)][1])\n",
    "print(result)"
   ]
  },
  {
   "cell_type": "markdown",
   "metadata": {},
   "source": [
    "\"Выходной файл должен быть расположен в корне вашей директории в файле lab05.json. Чекер будет брать файл именно оттуда.\""
   ]
  },
  {
   "cell_type": "code",
   "execution_count": 30,
   "metadata": {},
   "outputs": [],
   "source": [
    "import json\n",
    "with open(\"lab05.json\", \"w\") as outfile:\n",
    "    json.dump(result, outfile)"
   ]
  },
  {
   "cell_type": "markdown",
   "metadata": {},
   "source": [
    "Лабораторная будет считаться пройденной, если метрики:\n",
    "\n",
    "len(TrueDefined.intersection(YourDefined))/len(YourDefined)\n",
    "\n",
    "len(TrueDefined.intersection(YourDefined))/len(TrueDefined)\n",
    "\n",
    "будут больше 0.9."
   ]
  },
  {
   "cell_type": "markdown",
   "metadata": {},
   "source": [
    "```\n",
    "time: 2018-08-10 21:38\n",
    "result is correct: True\n",
    "len(TrueDefined.intersection(YourDefined))/len(TrueDefined): 1.0\n",
    "len(TrueDefined.intersection(YourDefined))/len(YourDefined): 1.0\n",
    "checker has successfully read all data in file: True\n",
    "file lab05.json exists in your dir: True\n",
    "file has size less than 20 000 bytes: True\n",
    "```"
   ]
  },
  {
   "cell_type": "code",
   "execution_count": null,
   "metadata": {},
   "outputs": [],
   "source": []
  }
 ],
 "metadata": {
  "kernelspec": {
   "display_name": "Python 3",
   "language": "python",
   "name": "python3"
  },
  "language_info": {
   "codemirror_mode": {
    "name": "ipython",
    "version": 3
   },
   "file_extension": ".py",
   "mimetype": "text/x-python",
   "name": "python",
   "nbconvert_exporter": "python",
   "pygments_lexer": "ipython3",
   "version": "3.6.5"
  }
 },
 "nbformat": 4,
 "nbformat_minor": 1
}
